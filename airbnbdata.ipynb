{
  "nbformat": 4,
  "nbformat_minor": 0,
  "metadata": {
    "colab": {
      "name": "airbnbdata.ipynb",
      "provenance": []
    },
    "kernelspec": {
      "display_name": "Python 3",
      "name": "python3"
    }
  },
  "cells": [
    {
      "cell_type": "markdown",
      "metadata": {
        "id": "xvGtb_NFuWYi"
      },
      "source": [
        "Importing all libraries"
      ]
    },
    {
      "cell_type": "code",
      "metadata": {
        "id": "tCuOIracjrxD",
        "colab": {
          "base_uri": "https://localhost:8080/"
        },
        "outputId": "d01e9fae-4aec-47cd-e482-fe2f88da1141"
      },
      "source": [
        "import numpy as np\r\n",
        "import pandas as pd\r\n",
        "import matplotlib.pyplot as plt\r\n",
        "import statsmodels.api as sm\r\n",
        "import scipy.stats as stats\r\n",
        "import seaborn as sns\r\n",
        "import gzip\r\n",
        "import os\r\n",
        "import shutil\r\n",
        "import matplotlib.font_manager as font_manager\r\n",
        "from sklearn.linear_model import LinearRegression, Lasso, LassoCV\r\n",
        "from sklearn.preprocessing import StandardScaler\r\n",
        "from sklearn.metrics import r2_score\r\n",
        "from sklearn.model_selection import train_test_split"
      ],
      "execution_count": 1,
      "outputs": [
        {
          "output_type": "stream",
          "text": [
            "/usr/local/lib/python3.6/dist-packages/statsmodels/tools/_testing.py:19: FutureWarning: pandas.util.testing is deprecated. Use the functions in the public API at pandas.testing instead.\n",
            "  import pandas.util.testing as tm\n"
          ],
          "name": "stderr"
        }
      ]
    },
    {
      "cell_type": "markdown",
      "metadata": {
        "id": "ukXktANhj9Lf"
      },
      "source": [
        "loading the dataset"
      ]
    },
    {
      "cell_type": "code",
      "metadata": {
        "id": "gD0Amb7hj8xd",
        "colab": {
          "base_uri": "https://localhost:8080/"
        },
        "outputId": "0d22b002-5751-486e-ce62-d402c2158c47"
      },
      "source": [
        "!wget http://data.insideairbnb.com/united-states/ny/new-york-city/2020-10-05/data/listings.csv.gz\r\n",
        "os.rename(\"listings.csv.gz\", \"/content/listings.csv.gz\")\r\n",
        "shutil.move(\"listings.csv.gz\", \"/content/listings.csv.gz\")\r\n",
        "os.replace(\"listings.csv.gz\", \"/content/listings.csv.gz\")"
      ],
      "execution_count": 2,
      "outputs": [
        {
          "output_type": "stream",
          "text": [
            "--2021-01-28 09:09:16--  http://data.insideairbnb.com/united-states/ny/new-york-city/2020-10-05/data/listings.csv.gz\n",
            "Resolving data.insideairbnb.com (data.insideairbnb.com)... 52.217.102.27\n",
            "Connecting to data.insideairbnb.com (data.insideairbnb.com)|52.217.102.27|:80... connected.\n",
            "HTTP request sent, awaiting response... 200 OK\n",
            "Length: 27166880 (26M) [application/x-gzip]\n",
            "Saving to: ‘listings.csv.gz’\n",
            "\n",
            "listings.csv.gz     100%[===================>]  25.91M  20.2MB/s    in 1.3s    \n",
            "\n",
            "2021-01-28 09:09:18 (20.2 MB/s) - ‘listings.csv.gz’ saved [27166880/27166880]\n",
            "\n"
          ],
          "name": "stdout"
        }
      ]
    },
    {
      "cell_type": "markdown",
      "metadata": {
        "id": "faeewXmnkGTb"
      },
      "source": [
        "Unzipping the file"
      ]
    },
    {
      "cell_type": "code",
      "metadata": {
        "id": "jbNxtcKRkIzt"
      },
      "source": [
        "with gzip.open('/content/listings.csv.gz', 'rb') as f_in:\r\n",
        "    with open('/content/listings.csv', 'wb') as f_out:\r\n",
        "        shutil.copyfileobj(f_in, f_out)"
      ],
      "execution_count": 3,
      "outputs": []
    },
    {
      "cell_type": "markdown",
      "metadata": {
        "id": "QX4i4zlMkN1-"
      },
      "source": [
        "Reading the data"
      ]
    },
    {
      "cell_type": "code",
      "metadata": {
        "id": "0W4kInlEj64X",
        "colab": {
          "base_uri": "https://localhost:8080/"
        },
        "outputId": "b950a390-6d60-44f7-a1b0-b2ea79ededd6"
      },
      "source": [
        "data = pd.read_csv('/content/listings.csv')\r\n",
        "data.shape"
      ],
      "execution_count": 4,
      "outputs": [
        {
          "output_type": "execute_result",
          "data": {
            "text/plain": [
              "(44666, 74)"
            ]
          },
          "metadata": {
            "tags": []
          },
          "execution_count": 4
        }
      ]
    },
    {
      "cell_type": "markdown",
      "metadata": {
        "id": "NInHBzRSkVnF"
      },
      "source": [
        "Dropping the unneccesary fields and cleaning the data"
      ]
    },
    {
      "cell_type": "code",
      "metadata": {
        "id": "VEy9CN68lSLD",
        "colab": {
          "base_uri": "https://localhost:8080/"
        },
        "outputId": "951fc82d-e2c4-4e93-a157-54dac4f60703"
      },
      "source": [
        "data = data.drop(['id','listing_url','scrape_id','last_scraped','name','neighborhood_overview','picture_url','host_id','host_url','host_name',\r\n",
        "                  'host_since','host_location','host_about','host_is_superhost','host_thumbnail_url','host_picture_url','host_listings_count',\r\n",
        "                  'host_verifications','host_has_profile_pic','calendar_last_scraped','first_review','last_review',\r\n",
        "                  'calculated_host_listings_count_entire_homes','calculated_host_listings_count_private_rooms',\r\n",
        "                  'calculated_host_listings_count_shared_rooms','license','bathrooms', 'calendar_updated', 'has_availability','host_total_listings_count',\r\n",
        "                  'maximum_nights','minimum_minimum_nights','maximum_minimum_nights','minimum_maximum_nights','maximum_maximum_nights',\r\n",
        "                  'minimum_nights_avg_ntm','maximum_nights_avg_ntm','number_of_reviews_ltm','number_of_reviews_l30d'], \r\n",
        "                axis=1)\r\n",
        "data.dtypes"
      ],
      "execution_count": 5,
      "outputs": [
        {
          "output_type": "execute_result",
          "data": {
            "text/plain": [
              "description                        object\n",
              "host_response_time                 object\n",
              "host_response_rate                 object\n",
              "host_acceptance_rate               object\n",
              "host_neighbourhood                 object\n",
              "host_identity_verified             object\n",
              "neighbourhood                      object\n",
              "neighbourhood_cleansed             object\n",
              "neighbourhood_group_cleansed       object\n",
              "latitude                          float64\n",
              "longitude                         float64\n",
              "property_type                      object\n",
              "room_type                          object\n",
              "accommodates                        int64\n",
              "bathrooms_text                     object\n",
              "bedrooms                          float64\n",
              "beds                              float64\n",
              "amenities                          object\n",
              "price                              object\n",
              "minimum_nights                      int64\n",
              "availability_30                     int64\n",
              "availability_60                     int64\n",
              "availability_90                     int64\n",
              "availability_365                    int64\n",
              "number_of_reviews                   int64\n",
              "review_scores_rating              float64\n",
              "review_scores_accuracy            float64\n",
              "review_scores_cleanliness         float64\n",
              "review_scores_checkin             float64\n",
              "review_scores_communication       float64\n",
              "review_scores_location            float64\n",
              "review_scores_value               float64\n",
              "instant_bookable                   object\n",
              "calculated_host_listings_count      int64\n",
              "reviews_per_month                 float64\n",
              "dtype: object"
            ]
          },
          "metadata": {
            "tags": []
          },
          "execution_count": 5
        }
      ]
    },
    {
      "cell_type": "code",
      "metadata": {
        "colab": {
          "base_uri": "https://localhost:8080/"
        },
        "id": "qxxfS-NZ85Hp",
        "outputId": "89c3a8da-004a-4b32-ac6d-b51458698c57"
      },
      "source": [
        "data.shape"
      ],
      "execution_count": 6,
      "outputs": [
        {
          "output_type": "execute_result",
          "data": {
            "text/plain": [
              "(44666, 35)"
            ]
          },
          "metadata": {
            "tags": []
          },
          "execution_count": 6
        }
      ]
    },
    {
      "cell_type": "code",
      "metadata": {
        "colab": {
          "base_uri": "https://localhost:8080/"
        },
        "id": "RSprx5K_xDuO",
        "outputId": "8ee9a680-7dd7-4543-be7e-f8aa04ef2f63"
      },
      "source": [
        "data['description'] = data['description'].fillna(' ')\r\n",
        "data.description"
      ],
      "execution_count": 7,
      "outputs": [
        {
          "output_type": "execute_result",
          "data": {
            "text/plain": [
              "0        Beautiful, spacious skylit studio in the heart...\n",
              "1        Enjoy 500 s.f. top floor in 1899 brownstone, w...\n",
              "2        <b>The space</b><br />HELLO EVERYONE AND THANK...\n",
              "3        We welcome you to stay in our lovely 2 br dupl...\n",
              "4        Please don’t expect the luxury here just a bas...\n",
              "                               ...                        \n",
              "44661    The unit is located on the 3rd floor in Lennox...\n",
              "44662                                                     \n",
              "44663    Newly renovated 2 Bedroom apartment with great...\n",
              "44664    Very clean Apartment , nice and cozy  I have a...\n",
              "44665    Fully furnished and stocked, flexible 1-18 mon...\n",
              "Name: description, Length: 44666, dtype: object"
            ]
          },
          "metadata": {
            "tags": []
          },
          "execution_count": 7
        }
      ]
    },
    {
      "cell_type": "markdown",
      "metadata": {
        "id": "jbGNIZTBOyFT"
      },
      "source": [
        "Applying textblob for sentiment analysis"
      ]
    },
    {
      "cell_type": "code",
      "metadata": {
        "colab": {
          "base_uri": "https://localhost:8080/",
          "height": 304
        },
        "id": "jeS8knURvfbB",
        "outputId": "2eacda18-b60b-4d01-fe5d-a09ec72553ef"
      },
      "source": [
        "from textblob import TextBlob\r\n",
        "\r\n",
        "data['sentiment'] = data['description'].apply(lambda desc: TextBlob(desc).polarity)\r\n",
        "data.describe()"
      ],
      "execution_count": 8,
      "outputs": [
        {
          "output_type": "execute_result",
          "data": {
            "text/html": [
              "<div>\n",
              "<style scoped>\n",
              "    .dataframe tbody tr th:only-of-type {\n",
              "        vertical-align: middle;\n",
              "    }\n",
              "\n",
              "    .dataframe tbody tr th {\n",
              "        vertical-align: top;\n",
              "    }\n",
              "\n",
              "    .dataframe thead th {\n",
              "        text-align: right;\n",
              "    }\n",
              "</style>\n",
              "<table border=\"1\" class=\"dataframe\">\n",
              "  <thead>\n",
              "    <tr style=\"text-align: right;\">\n",
              "      <th></th>\n",
              "      <th>latitude</th>\n",
              "      <th>longitude</th>\n",
              "      <th>accommodates</th>\n",
              "      <th>bedrooms</th>\n",
              "      <th>beds</th>\n",
              "      <th>minimum_nights</th>\n",
              "      <th>availability_30</th>\n",
              "      <th>availability_60</th>\n",
              "      <th>availability_90</th>\n",
              "      <th>availability_365</th>\n",
              "      <th>number_of_reviews</th>\n",
              "      <th>review_scores_rating</th>\n",
              "      <th>review_scores_accuracy</th>\n",
              "      <th>review_scores_cleanliness</th>\n",
              "      <th>review_scores_checkin</th>\n",
              "      <th>review_scores_communication</th>\n",
              "      <th>review_scores_location</th>\n",
              "      <th>review_scores_value</th>\n",
              "      <th>calculated_host_listings_count</th>\n",
              "      <th>reviews_per_month</th>\n",
              "      <th>sentiment</th>\n",
              "    </tr>\n",
              "  </thead>\n",
              "  <tbody>\n",
              "    <tr>\n",
              "      <th>count</th>\n",
              "      <td>44666.000000</td>\n",
              "      <td>44666.000000</td>\n",
              "      <td>44666.000000</td>\n",
              "      <td>40407.000000</td>\n",
              "      <td>44153.000000</td>\n",
              "      <td>44666.000000</td>\n",
              "      <td>44666.000000</td>\n",
              "      <td>44666.000000</td>\n",
              "      <td>44666.000000</td>\n",
              "      <td>44666.000000</td>\n",
              "      <td>44666.000000</td>\n",
              "      <td>33102.000000</td>\n",
              "      <td>33070.000000</td>\n",
              "      <td>33083.000000</td>\n",
              "      <td>33055.000000</td>\n",
              "      <td>33075.000000</td>\n",
              "      <td>33050.000000</td>\n",
              "      <td>33051.000000</td>\n",
              "      <td>44666.000000</td>\n",
              "      <td>34149.000000</td>\n",
              "      <td>44666.000000</td>\n",
              "    </tr>\n",
              "    <tr>\n",
              "      <th>mean</th>\n",
              "      <td>40.729714</td>\n",
              "      <td>-73.950756</td>\n",
              "      <td>2.758250</td>\n",
              "      <td>1.291880</td>\n",
              "      <td>1.507304</td>\n",
              "      <td>9.301191</td>\n",
              "      <td>8.137621</td>\n",
              "      <td>18.572180</td>\n",
              "      <td>29.672413</td>\n",
              "      <td>105.422447</td>\n",
              "      <td>22.456992</td>\n",
              "      <td>93.849435</td>\n",
              "      <td>9.599546</td>\n",
              "      <td>9.268930</td>\n",
              "      <td>9.724459</td>\n",
              "      <td>9.727498</td>\n",
              "      <td>9.594191</td>\n",
              "      <td>9.386070</td>\n",
              "      <td>6.668338</td>\n",
              "      <td>0.864005</td>\n",
              "      <td>0.252108</td>\n",
              "    </tr>\n",
              "    <tr>\n",
              "      <th>std</th>\n",
              "      <td>0.055180</td>\n",
              "      <td>0.047505</td>\n",
              "      <td>1.803448</td>\n",
              "      <td>0.681161</td>\n",
              "      <td>1.090736</td>\n",
              "      <td>24.232548</td>\n",
              "      <td>12.057353</td>\n",
              "      <td>24.987269</td>\n",
              "      <td>37.929037</td>\n",
              "      <td>139.519399</td>\n",
              "      <td>46.664551</td>\n",
              "      <td>9.418724</td>\n",
              "      <td>0.919346</td>\n",
              "      <td>1.143005</td>\n",
              "      <td>0.810329</td>\n",
              "      <td>0.827889</td>\n",
              "      <td>0.800604</td>\n",
              "      <td>0.986716</td>\n",
              "      <td>24.854672</td>\n",
              "      <td>1.267115</td>\n",
              "      <td>0.137028</td>\n",
              "    </tr>\n",
              "    <tr>\n",
              "      <th>min</th>\n",
              "      <td>40.508680</td>\n",
              "      <td>-74.239860</td>\n",
              "      <td>0.000000</td>\n",
              "      <td>1.000000</td>\n",
              "      <td>0.000000</td>\n",
              "      <td>1.000000</td>\n",
              "      <td>0.000000</td>\n",
              "      <td>0.000000</td>\n",
              "      <td>0.000000</td>\n",
              "      <td>0.000000</td>\n",
              "      <td>0.000000</td>\n",
              "      <td>20.000000</td>\n",
              "      <td>2.000000</td>\n",
              "      <td>2.000000</td>\n",
              "      <td>2.000000</td>\n",
              "      <td>2.000000</td>\n",
              "      <td>2.000000</td>\n",
              "      <td>2.000000</td>\n",
              "      <td>1.000000</td>\n",
              "      <td>0.010000</td>\n",
              "      <td>-0.500000</td>\n",
              "    </tr>\n",
              "    <tr>\n",
              "      <th>25%</th>\n",
              "      <td>40.689880</td>\n",
              "      <td>-73.982980</td>\n",
              "      <td>2.000000</td>\n",
              "      <td>1.000000</td>\n",
              "      <td>1.000000</td>\n",
              "      <td>2.000000</td>\n",
              "      <td>0.000000</td>\n",
              "      <td>0.000000</td>\n",
              "      <td>0.000000</td>\n",
              "      <td>0.000000</td>\n",
              "      <td>1.000000</td>\n",
              "      <td>92.000000</td>\n",
              "      <td>9.000000</td>\n",
              "      <td>9.000000</td>\n",
              "      <td>10.000000</td>\n",
              "      <td>10.000000</td>\n",
              "      <td>9.000000</td>\n",
              "      <td>9.000000</td>\n",
              "      <td>1.000000</td>\n",
              "      <td>0.110000</td>\n",
              "      <td>0.170914</td>\n",
              "    </tr>\n",
              "    <tr>\n",
              "      <th>50%</th>\n",
              "      <td>40.724560</td>\n",
              "      <td>-73.955285</td>\n",
              "      <td>2.000000</td>\n",
              "      <td>1.000000</td>\n",
              "      <td>1.000000</td>\n",
              "      <td>3.000000</td>\n",
              "      <td>0.000000</td>\n",
              "      <td>0.000000</td>\n",
              "      <td>0.000000</td>\n",
              "      <td>1.000000</td>\n",
              "      <td>4.000000</td>\n",
              "      <td>97.000000</td>\n",
              "      <td>10.000000</td>\n",
              "      <td>10.000000</td>\n",
              "      <td>10.000000</td>\n",
              "      <td>10.000000</td>\n",
              "      <td>10.000000</td>\n",
              "      <td>10.000000</td>\n",
              "      <td>1.000000</td>\n",
              "      <td>0.350000</td>\n",
              "      <td>0.250685</td>\n",
              "    </tr>\n",
              "    <tr>\n",
              "      <th>75%</th>\n",
              "      <td>40.763350</td>\n",
              "      <td>-73.933980</td>\n",
              "      <td>4.000000</td>\n",
              "      <td>1.000000</td>\n",
              "      <td>2.000000</td>\n",
              "      <td>7.000000</td>\n",
              "      <td>20.000000</td>\n",
              "      <td>47.000000</td>\n",
              "      <td>73.000000</td>\n",
              "      <td>189.000000</td>\n",
              "      <td>20.000000</td>\n",
              "      <td>100.000000</td>\n",
              "      <td>10.000000</td>\n",
              "      <td>10.000000</td>\n",
              "      <td>10.000000</td>\n",
              "      <td>10.000000</td>\n",
              "      <td>10.000000</td>\n",
              "      <td>10.000000</td>\n",
              "      <td>2.000000</td>\n",
              "      <td>1.130000</td>\n",
              "      <td>0.331818</td>\n",
              "    </tr>\n",
              "    <tr>\n",
              "      <th>max</th>\n",
              "      <td>40.911690</td>\n",
              "      <td>-73.711930</td>\n",
              "      <td>16.000000</td>\n",
              "      <td>21.000000</td>\n",
              "      <td>40.000000</td>\n",
              "      <td>1250.000000</td>\n",
              "      <td>30.000000</td>\n",
              "      <td>60.000000</td>\n",
              "      <td>90.000000</td>\n",
              "      <td>365.000000</td>\n",
              "      <td>746.000000</td>\n",
              "      <td>100.000000</td>\n",
              "      <td>10.000000</td>\n",
              "      <td>10.000000</td>\n",
              "      <td>10.000000</td>\n",
              "      <td>10.000000</td>\n",
              "      <td>10.000000</td>\n",
              "      <td>10.000000</td>\n",
              "      <td>239.000000</td>\n",
              "      <td>41.370000</td>\n",
              "      <td>1.000000</td>\n",
              "    </tr>\n",
              "  </tbody>\n",
              "</table>\n",
              "</div>"
            ],
            "text/plain": [
              "           latitude     longitude  ...  reviews_per_month     sentiment\n",
              "count  44666.000000  44666.000000  ...       34149.000000  44666.000000\n",
              "mean      40.729714    -73.950756  ...           0.864005      0.252108\n",
              "std        0.055180      0.047505  ...           1.267115      0.137028\n",
              "min       40.508680    -74.239860  ...           0.010000     -0.500000\n",
              "25%       40.689880    -73.982980  ...           0.110000      0.170914\n",
              "50%       40.724560    -73.955285  ...           0.350000      0.250685\n",
              "75%       40.763350    -73.933980  ...           1.130000      0.331818\n",
              "max       40.911690    -73.711930  ...          41.370000      1.000000\n",
              "\n",
              "[8 rows x 21 columns]"
            ]
          },
          "metadata": {
            "tags": []
          },
          "execution_count": 8
        }
      ]
    },
    {
      "cell_type": "markdown",
      "metadata": {
        "id": "Hr-XNFXJrn9H"
      },
      "source": [
        "Converting 'Instant bookable' field to Int "
      ]
    },
    {
      "cell_type": "code",
      "metadata": {
        "id": "zNfaEsSjrt2y"
      },
      "source": [
        "data.loc[data['instant_bookable'] == 'f',['instant_bookable']] = '0'\r\n",
        "data.loc[data['instant_bookable'] == 't',['instant_bookable']] = '1'\r\n",
        "data.instant_bookable = data.instant_bookable.astype(int)"
      ],
      "execution_count": 9,
      "outputs": []
    },
    {
      "cell_type": "markdown",
      "metadata": {
        "id": "QaMNmEqUCdkl"
      },
      "source": [
        "Converting 'Host responce rate' field to Float"
      ]
    },
    {
      "cell_type": "code",
      "metadata": {
        "id": "PeJ9tBgsCiL1"
      },
      "source": [
        "data['host_response_rate'] = data['host_response_rate'].str.replace(\"%\", \"\").astype(\"float\")\r\n",
        "data['host_response_rate'].fillna(value=np.mean(data['host_response_rate']), inplace=True)"
      ],
      "execution_count": 10,
      "outputs": []
    },
    {
      "cell_type": "markdown",
      "metadata": {
        "id": "lE-N6WeZm2X_"
      },
      "source": [
        "Cleaning the price field "
      ]
    },
    {
      "cell_type": "code",
      "metadata": {
        "id": "xp02F7Ucm5yn",
        "colab": {
          "base_uri": "https://localhost:8080/",
          "height": 304
        },
        "outputId": "30b8d7d1-dc05-48e1-808b-21e2fe56f864"
      },
      "source": [
        "data['price'] = data['price'].str.replace('$', '')\r\n",
        "data['price'] = data['price'].str.replace(',', '')\r\n",
        "data[\"price\"] = pd.to_numeric(data[\"price\"], downcast=\"float\")\r\n",
        "data = data[data.price > 0]\r\n",
        "data.isnull().sum().sort_values(ascending=False)\r\n",
        "data.describe()"
      ],
      "execution_count": 11,
      "outputs": [
        {
          "output_type": "execute_result",
          "data": {
            "text/html": [
              "<div>\n",
              "<style scoped>\n",
              "    .dataframe tbody tr th:only-of-type {\n",
              "        vertical-align: middle;\n",
              "    }\n",
              "\n",
              "    .dataframe tbody tr th {\n",
              "        vertical-align: top;\n",
              "    }\n",
              "\n",
              "    .dataframe thead th {\n",
              "        text-align: right;\n",
              "    }\n",
              "</style>\n",
              "<table border=\"1\" class=\"dataframe\">\n",
              "  <thead>\n",
              "    <tr style=\"text-align: right;\">\n",
              "      <th></th>\n",
              "      <th>host_response_rate</th>\n",
              "      <th>latitude</th>\n",
              "      <th>longitude</th>\n",
              "      <th>accommodates</th>\n",
              "      <th>bedrooms</th>\n",
              "      <th>beds</th>\n",
              "      <th>price</th>\n",
              "      <th>minimum_nights</th>\n",
              "      <th>availability_30</th>\n",
              "      <th>availability_60</th>\n",
              "      <th>availability_90</th>\n",
              "      <th>availability_365</th>\n",
              "      <th>number_of_reviews</th>\n",
              "      <th>review_scores_rating</th>\n",
              "      <th>review_scores_accuracy</th>\n",
              "      <th>review_scores_cleanliness</th>\n",
              "      <th>review_scores_checkin</th>\n",
              "      <th>review_scores_communication</th>\n",
              "      <th>review_scores_location</th>\n",
              "      <th>review_scores_value</th>\n",
              "      <th>instant_bookable</th>\n",
              "      <th>calculated_host_listings_count</th>\n",
              "      <th>reviews_per_month</th>\n",
              "      <th>sentiment</th>\n",
              "    </tr>\n",
              "  </thead>\n",
              "  <tbody>\n",
              "    <tr>\n",
              "      <th>count</th>\n",
              "      <td>44641.000000</td>\n",
              "      <td>44641.000000</td>\n",
              "      <td>44641.000000</td>\n",
              "      <td>44641.000000</td>\n",
              "      <td>40403.000000</td>\n",
              "      <td>44148.000000</td>\n",
              "      <td>44641.000000</td>\n",
              "      <td>44641.000000</td>\n",
              "      <td>44641.000000</td>\n",
              "      <td>44641.000000</td>\n",
              "      <td>44641.000000</td>\n",
              "      <td>44641.000000</td>\n",
              "      <td>44641.000000</td>\n",
              "      <td>33098.000000</td>\n",
              "      <td>33066.000000</td>\n",
              "      <td>33079.000000</td>\n",
              "      <td>33051.000000</td>\n",
              "      <td>33071.000000</td>\n",
              "      <td>33046.000000</td>\n",
              "      <td>33047.000000</td>\n",
              "      <td>44641.000000</td>\n",
              "      <td>44641.000000</td>\n",
              "      <td>34145.000000</td>\n",
              "      <td>44641.000000</td>\n",
              "    </tr>\n",
              "    <tr>\n",
              "      <th>mean</th>\n",
              "      <td>86.292654</td>\n",
              "      <td>40.729706</td>\n",
              "      <td>-73.950736</td>\n",
              "      <td>2.758272</td>\n",
              "      <td>1.291909</td>\n",
              "      <td>1.507316</td>\n",
              "      <td>150.188721</td>\n",
              "      <td>9.305661</td>\n",
              "      <td>8.142179</td>\n",
              "      <td>18.582581</td>\n",
              "      <td>29.689030</td>\n",
              "      <td>105.479156</td>\n",
              "      <td>22.468941</td>\n",
              "      <td>93.850565</td>\n",
              "      <td>9.599649</td>\n",
              "      <td>9.268902</td>\n",
              "      <td>9.724456</td>\n",
              "      <td>9.727526</td>\n",
              "      <td>9.594202</td>\n",
              "      <td>9.386177</td>\n",
              "      <td>0.337067</td>\n",
              "      <td>6.670146</td>\n",
              "      <td>0.864013</td>\n",
              "      <td>0.252241</td>\n",
              "    </tr>\n",
              "    <tr>\n",
              "      <th>std</th>\n",
              "      <td>18.731282</td>\n",
              "      <td>0.055193</td>\n",
              "      <td>0.047510</td>\n",
              "      <td>1.803325</td>\n",
              "      <td>0.681188</td>\n",
              "      <td>1.090785</td>\n",
              "      <td>323.438934</td>\n",
              "      <td>24.238579</td>\n",
              "      <td>12.059190</td>\n",
              "      <td>24.990399</td>\n",
              "      <td>37.933153</td>\n",
              "      <td>139.537692</td>\n",
              "      <td>46.674780</td>\n",
              "      <td>9.417203</td>\n",
              "      <td>0.919243</td>\n",
              "      <td>1.143058</td>\n",
              "      <td>0.810364</td>\n",
              "      <td>0.827881</td>\n",
              "      <td>0.800632</td>\n",
              "      <td>0.986651</td>\n",
              "      <td>0.472713</td>\n",
              "      <td>24.861435</td>\n",
              "      <td>1.267149</td>\n",
              "      <td>0.136948</td>\n",
              "    </tr>\n",
              "    <tr>\n",
              "      <th>min</th>\n",
              "      <td>0.000000</td>\n",
              "      <td>40.508680</td>\n",
              "      <td>-74.239860</td>\n",
              "      <td>1.000000</td>\n",
              "      <td>1.000000</td>\n",
              "      <td>0.000000</td>\n",
              "      <td>10.000000</td>\n",
              "      <td>1.000000</td>\n",
              "      <td>0.000000</td>\n",
              "      <td>0.000000</td>\n",
              "      <td>0.000000</td>\n",
              "      <td>0.000000</td>\n",
              "      <td>0.000000</td>\n",
              "      <td>20.000000</td>\n",
              "      <td>2.000000</td>\n",
              "      <td>2.000000</td>\n",
              "      <td>2.000000</td>\n",
              "      <td>2.000000</td>\n",
              "      <td>2.000000</td>\n",
              "      <td>2.000000</td>\n",
              "      <td>0.000000</td>\n",
              "      <td>1.000000</td>\n",
              "      <td>0.010000</td>\n",
              "      <td>-0.500000</td>\n",
              "    </tr>\n",
              "    <tr>\n",
              "      <th>25%</th>\n",
              "      <td>86.293973</td>\n",
              "      <td>40.689870</td>\n",
              "      <td>-73.982950</td>\n",
              "      <td>2.000000</td>\n",
              "      <td>1.000000</td>\n",
              "      <td>1.000000</td>\n",
              "      <td>64.000000</td>\n",
              "      <td>2.000000</td>\n",
              "      <td>0.000000</td>\n",
              "      <td>0.000000</td>\n",
              "      <td>0.000000</td>\n",
              "      <td>0.000000</td>\n",
              "      <td>1.000000</td>\n",
              "      <td>92.000000</td>\n",
              "      <td>9.000000</td>\n",
              "      <td>9.000000</td>\n",
              "      <td>10.000000</td>\n",
              "      <td>10.000000</td>\n",
              "      <td>9.000000</td>\n",
              "      <td>9.000000</td>\n",
              "      <td>0.000000</td>\n",
              "      <td>1.000000</td>\n",
              "      <td>0.110000</td>\n",
              "      <td>0.171155</td>\n",
              "    </tr>\n",
              "    <tr>\n",
              "      <th>50%</th>\n",
              "      <td>86.293973</td>\n",
              "      <td>40.724550</td>\n",
              "      <td>-73.955270</td>\n",
              "      <td>2.000000</td>\n",
              "      <td>1.000000</td>\n",
              "      <td>1.000000</td>\n",
              "      <td>100.000000</td>\n",
              "      <td>3.000000</td>\n",
              "      <td>0.000000</td>\n",
              "      <td>0.000000</td>\n",
              "      <td>0.000000</td>\n",
              "      <td>1.000000</td>\n",
              "      <td>4.000000</td>\n",
              "      <td>97.000000</td>\n",
              "      <td>10.000000</td>\n",
              "      <td>10.000000</td>\n",
              "      <td>10.000000</td>\n",
              "      <td>10.000000</td>\n",
              "      <td>10.000000</td>\n",
              "      <td>10.000000</td>\n",
              "      <td>0.000000</td>\n",
              "      <td>1.000000</td>\n",
              "      <td>0.350000</td>\n",
              "      <td>0.250794</td>\n",
              "    </tr>\n",
              "    <tr>\n",
              "      <th>75%</th>\n",
              "      <td>100.000000</td>\n",
              "      <td>40.763350</td>\n",
              "      <td>-73.933950</td>\n",
              "      <td>4.000000</td>\n",
              "      <td>1.000000</td>\n",
              "      <td>2.000000</td>\n",
              "      <td>160.000000</td>\n",
              "      <td>7.000000</td>\n",
              "      <td>20.000000</td>\n",
              "      <td>47.000000</td>\n",
              "      <td>73.000000</td>\n",
              "      <td>189.000000</td>\n",
              "      <td>20.000000</td>\n",
              "      <td>100.000000</td>\n",
              "      <td>10.000000</td>\n",
              "      <td>10.000000</td>\n",
              "      <td>10.000000</td>\n",
              "      <td>10.000000</td>\n",
              "      <td>10.000000</td>\n",
              "      <td>10.000000</td>\n",
              "      <td>1.000000</td>\n",
              "      <td>2.000000</td>\n",
              "      <td>1.130000</td>\n",
              "      <td>0.331860</td>\n",
              "    </tr>\n",
              "    <tr>\n",
              "      <th>max</th>\n",
              "      <td>100.000000</td>\n",
              "      <td>40.911690</td>\n",
              "      <td>-73.711930</td>\n",
              "      <td>16.000000</td>\n",
              "      <td>21.000000</td>\n",
              "      <td>40.000000</td>\n",
              "      <td>10000.000000</td>\n",
              "      <td>1250.000000</td>\n",
              "      <td>30.000000</td>\n",
              "      <td>60.000000</td>\n",
              "      <td>90.000000</td>\n",
              "      <td>365.000000</td>\n",
              "      <td>746.000000</td>\n",
              "      <td>100.000000</td>\n",
              "      <td>10.000000</td>\n",
              "      <td>10.000000</td>\n",
              "      <td>10.000000</td>\n",
              "      <td>10.000000</td>\n",
              "      <td>10.000000</td>\n",
              "      <td>10.000000</td>\n",
              "      <td>1.000000</td>\n",
              "      <td>239.000000</td>\n",
              "      <td>41.370000</td>\n",
              "      <td>1.000000</td>\n",
              "    </tr>\n",
              "  </tbody>\n",
              "</table>\n",
              "</div>"
            ],
            "text/plain": [
              "       host_response_rate      latitude  ...  reviews_per_month     sentiment\n",
              "count        44641.000000  44641.000000  ...       34145.000000  44641.000000\n",
              "mean            86.292654     40.729706  ...           0.864013      0.252241\n",
              "std             18.731282      0.055193  ...           1.267149      0.136948\n",
              "min              0.000000     40.508680  ...           0.010000     -0.500000\n",
              "25%             86.293973     40.689870  ...           0.110000      0.171155\n",
              "50%             86.293973     40.724550  ...           0.350000      0.250794\n",
              "75%            100.000000     40.763350  ...           1.130000      0.331860\n",
              "max            100.000000     40.911690  ...          41.370000      1.000000\n",
              "\n",
              "[8 rows x 24 columns]"
            ]
          },
          "metadata": {
            "tags": []
          },
          "execution_count": 11
        }
      ]
    },
    {
      "cell_type": "markdown",
      "metadata": {
        "id": "uD_JgUuNCwzm"
      },
      "source": [
        "Changing values for 'Host identity verified' field from 'True/False' to 0/1 "
      ]
    },
    {
      "cell_type": "code",
      "metadata": {
        "id": "e61NfIHbCuwS"
      },
      "source": [
        "data.loc[data['host_identity_verified'] == 'f',['host_identity_verified']] = '0'\r\n",
        "data.loc[data['host_identity_verified'] == 't',['host_identity_verified']] = '1'\r\n",
        "data.instant_bookable = data.instant_bookable.astype(int)\r\n",
        "data['host_identity_verified'].fillna(0, inplace=True)"
      ],
      "execution_count": 12,
      "outputs": []
    },
    {
      "cell_type": "code",
      "metadata": {
        "id": "d8VBQ8qUr_mq",
        "colab": {
          "base_uri": "https://localhost:8080/"
        },
        "outputId": "02cd27c9-2c68-45ee-d0c5-926d605d4932"
      },
      "source": [
        "data.shape"
      ],
      "execution_count": 13,
      "outputs": [
        {
          "output_type": "execute_result",
          "data": {
            "text/plain": [
              "(44641, 36)"
            ]
          },
          "metadata": {
            "tags": []
          },
          "execution_count": 13
        }
      ]
    },
    {
      "cell_type": "markdown",
      "metadata": {
        "id": "kE0OnsGTEScP"
      },
      "source": [
        "Price outlier Analysis "
      ]
    },
    {
      "cell_type": "code",
      "metadata": {
        "id": "eyTjxS7zsLpo",
        "colab": {
          "base_uri": "https://localhost:8080/",
          "height": 644
        },
        "outputId": "38746780-d5b8-45eb-d76e-bbd35d7458e5"
      },
      "source": [
        "sns.distplot(data['price'], kde=True,);\r\n",
        "fig = plt.figure()\r\n",
        "res = stats.probplot(data['price'], plot=plt)\r\n",
        "print(\"Skewness: %f\" % data['price'].skew())\r\n",
        "print(\"Kurtosis: %f\" % data['price'].kurt())"
      ],
      "execution_count": 14,
      "outputs": [
        {
          "output_type": "stream",
          "text": [
            "/usr/local/lib/python3.6/dist-packages/seaborn/distributions.py:2557: FutureWarning: `distplot` is a deprecated function and will be removed in a future version. Please adapt your code to use either `displot` (a figure-level function with similar flexibility) or `histplot` (an axes-level function for histograms).\n",
            "  warnings.warn(msg, FutureWarning)\n"
          ],
          "name": "stderr"
        },
        {
          "output_type": "stream",
          "text": [
            "Skewness: 21.295889\n",
            "Kurtosis: 587.172180\n"
          ],
          "name": "stdout"
        },
        {
          "output_type": "display_data",
          "data": {
            "image/png": "[encoded data removed]",
            "text/plain": [
              "<Figure size 432x288 with 1 Axes>"
            ]
          },
          "metadata": {
            "tags": [],
            "needs_background": "light"
          }
        },
        {
          "output_type": "display_data",
          "data": {
            "image/png": "[encoded data removed]",
            "text/plain": [
              "<Figure size 432x288 with 1 Axes>"
            ]
          },
          "metadata": {
            "tags": [],
            "needs_background": "light"
          }
        }
      ]
    },
    {
      "cell_type": "code",
      "metadata": {
        "id": "VlyYH8MYsCOm",
        "colab": {
          "base_uri": "https://localhost:8080/"
        },
        "outputId": "9ec24556-464d-49d5-e6fd-b0218aed99c9"
      },
      "source": [
        "data = data[data.price <= 600]\r\n",
        "data.shape"
      ],
      "execution_count": 15,
      "outputs": [
        {
          "output_type": "execute_result",
          "data": {
            "text/plain": [
              "(43824, 36)"
            ]
          },
          "metadata": {
            "tags": []
          },
          "execution_count": 15
        }
      ]
    },
    {
      "cell_type": "code",
      "metadata": {
        "id": "EPU6Z-HssHTw",
        "colab": {
          "base_uri": "https://localhost:8080/",
          "height": 590
        },
        "outputId": "5dbf09c6-dbf2-4fec-b743-68f6d5a385d1"
      },
      "source": [
        "sns.histplot(data['price'], kde=True,);\r\n",
        "fig = plt.figure()\r\n",
        "res = stats.probplot(data['price'], plot=plt)\r\n",
        "print(\"Skewness: %f\" % data['price'].skew())\r\n",
        "print(\"Kurtosis: %f\" % data['price'].kurt())"
      ],
      "execution_count": 16,
      "outputs": [
        {
          "output_type": "stream",
          "text": [
            "Skewness: 1.931983\n",
            "Kurtosis: 4.792629\n"
          ],
          "name": "stdout"
        },
        {
          "output_type": "display_data",
          "data": {
            "image/png": "[encoded data removed]",
            "text/plain": [
              "<Figure size 432x288 with 1 Axes>"
            ]
          },
          "metadata": {
            "tags": [],
            "needs_background": "light"
          }
        },
        {
          "output_type": "display_data",
          "data": {
            "image/png": "[encoded data removed]",
            "text/plain": [
              "<Figure size 432x288 with 1 Axes>"
            ]
          },
          "metadata": {
            "tags": [],
            "needs_background": "light"
          }
        }
      ]
    },
    {
      "cell_type": "markdown",
      "metadata": {
        "id": "NibpJkKznWCc"
      },
      "source": [
        "Cleaning the bedroom field"
      ]
    },
    {
      "cell_type": "code",
      "metadata": {
        "id": "a7RvXEa6nYq-",
        "colab": {
          "base_uri": "https://localhost:8080/",
          "height": 534
        },
        "outputId": "30066453-7bab-4974-ad1b-87f26af913de"
      },
      "source": [
        "data['bedrooms'].fillna(0, inplace=True)\r\n",
        "data.fillna(0, inplace=True)\r\n",
        "data = data[data.beds > 0]\r\n",
        "data.loc[data['bedrooms'] == 0, 'bedrooms'] = 1.0\r\n",
        "data.head()\r\n"
      ],
      "execution_count": 17,
      "outputs": [
        {
          "output_type": "execute_result",
          "data": {
            "text/html": [
              "<div>\n",
              "<style scoped>\n",
              "    .dataframe tbody tr th:only-of-type {\n",
              "        vertical-align: middle;\n",
              "    }\n",
              "\n",
              "    .dataframe tbody tr th {\n",
              "        vertical-align: top;\n",
              "    }\n",
              "\n",
              "    .dataframe thead th {\n",
              "        text-align: right;\n",
              "    }\n",
              "</style>\n",
              "<table border=\"1\" class=\"dataframe\">\n",
              "  <thead>\n",
              "    <tr style=\"text-align: right;\">\n",
              "      <th></th>\n",
              "      <th>description</th>\n",
              "      <th>host_response_time</th>\n",
              "      <th>host_response_rate</th>\n",
              "      <th>host_acceptance_rate</th>\n",
              "      <th>host_neighbourhood</th>\n",
              "      <th>host_identity_verified</th>\n",
              "      <th>neighbourhood</th>\n",
              "      <th>neighbourhood_cleansed</th>\n",
              "      <th>neighbourhood_group_cleansed</th>\n",
              "      <th>latitude</th>\n",
              "      <th>longitude</th>\n",
              "      <th>property_type</th>\n",
              "      <th>room_type</th>\n",
              "      <th>accommodates</th>\n",
              "      <th>bathrooms_text</th>\n",
              "      <th>bedrooms</th>\n",
              "      <th>beds</th>\n",
              "      <th>amenities</th>\n",
              "      <th>price</th>\n",
              "      <th>minimum_nights</th>\n",
              "      <th>availability_30</th>\n",
              "      <th>availability_60</th>\n",
              "      <th>availability_90</th>\n",
              "      <th>availability_365</th>\n",
              "      <th>number_of_reviews</th>\n",
              "      <th>review_scores_rating</th>\n",
              "      <th>review_scores_accuracy</th>\n",
              "      <th>review_scores_cleanliness</th>\n",
              "      <th>review_scores_checkin</th>\n",
              "      <th>review_scores_communication</th>\n",
              "      <th>review_scores_location</th>\n",
              "      <th>review_scores_value</th>\n",
              "      <th>instant_bookable</th>\n",
              "      <th>calculated_host_listings_count</th>\n",
              "      <th>reviews_per_month</th>\n",
              "      <th>sentiment</th>\n",
              "    </tr>\n",
              "  </thead>\n",
              "  <tbody>\n",
              "    <tr>\n",
              "      <th>0</th>\n",
              "      <td>Beautiful, spacious skylit studio in the heart...</td>\n",
              "      <td>within a day</td>\n",
              "      <td>70.000000</td>\n",
              "      <td>25%</td>\n",
              "      <td>Midtown</td>\n",
              "      <td>1</td>\n",
              "      <td>New York, United States</td>\n",
              "      <td>Midtown</td>\n",
              "      <td>Manhattan</td>\n",
              "      <td>40.75362</td>\n",
              "      <td>-73.98377</td>\n",
              "      <td>Entire apartment</td>\n",
              "      <td>Entire home/apt</td>\n",
              "      <td>2</td>\n",
              "      <td>1 bath</td>\n",
              "      <td>1.0</td>\n",
              "      <td>1.0</td>\n",
              "      <td>[\"Hot water\", \"Stove\", \"Extra pillows and blan...</td>\n",
              "      <td>175.0</td>\n",
              "      <td>3</td>\n",
              "      <td>30</td>\n",
              "      <td>60</td>\n",
              "      <td>90</td>\n",
              "      <td>365</td>\n",
              "      <td>48</td>\n",
              "      <td>94.0</td>\n",
              "      <td>9.0</td>\n",
              "      <td>9.0</td>\n",
              "      <td>10.0</td>\n",
              "      <td>10.0</td>\n",
              "      <td>10.0</td>\n",
              "      <td>9.0</td>\n",
              "      <td>0</td>\n",
              "      <td>2</td>\n",
              "      <td>0.36</td>\n",
              "      <td>0.320801</td>\n",
              "    </tr>\n",
              "    <tr>\n",
              "      <th>1</th>\n",
              "      <td>Enjoy 500 s.f. top floor in 1899 brownstone, w...</td>\n",
              "      <td>within an hour</td>\n",
              "      <td>98.000000</td>\n",
              "      <td>96%</td>\n",
              "      <td>Clinton Hill</td>\n",
              "      <td>1</td>\n",
              "      <td>Brooklyn, New York, United States</td>\n",
              "      <td>Clinton Hill</td>\n",
              "      <td>Brooklyn</td>\n",
              "      <td>40.68514</td>\n",
              "      <td>-73.95976</td>\n",
              "      <td>Entire guest suite</td>\n",
              "      <td>Entire home/apt</td>\n",
              "      <td>3</td>\n",
              "      <td>1 bath</td>\n",
              "      <td>1.0</td>\n",
              "      <td>3.0</td>\n",
              "      <td>[\"Hot water\", \"Stove\", \"Free parking on premis...</td>\n",
              "      <td>76.0</td>\n",
              "      <td>1</td>\n",
              "      <td>2</td>\n",
              "      <td>2</td>\n",
              "      <td>2</td>\n",
              "      <td>2</td>\n",
              "      <td>354</td>\n",
              "      <td>89.0</td>\n",
              "      <td>8.0</td>\n",
              "      <td>9.0</td>\n",
              "      <td>9.0</td>\n",
              "      <td>9.0</td>\n",
              "      <td>9.0</td>\n",
              "      <td>9.0</td>\n",
              "      <td>0</td>\n",
              "      <td>1</td>\n",
              "      <td>4.82</td>\n",
              "      <td>0.167500</td>\n",
              "    </tr>\n",
              "    <tr>\n",
              "      <th>2</th>\n",
              "      <td>&lt;b&gt;The space&lt;/b&gt;&lt;br /&gt;HELLO EVERYONE AND THANK...</td>\n",
              "      <td>0</td>\n",
              "      <td>86.293973</td>\n",
              "      <td>100%</td>\n",
              "      <td>Bedford-Stuyvesant</td>\n",
              "      <td>1</td>\n",
              "      <td>0</td>\n",
              "      <td>Bedford-Stuyvesant</td>\n",
              "      <td>Brooklyn</td>\n",
              "      <td>40.68688</td>\n",
              "      <td>-73.95596</td>\n",
              "      <td>Private room in apartment</td>\n",
              "      <td>Private room</td>\n",
              "      <td>2</td>\n",
              "      <td>0</td>\n",
              "      <td>1.0</td>\n",
              "      <td>1.0</td>\n",
              "      <td>[\"Wifi\", \"Air conditioning\", \"Heating\", \"Kitch...</td>\n",
              "      <td>60.0</td>\n",
              "      <td>29</td>\n",
              "      <td>2</td>\n",
              "      <td>2</td>\n",
              "      <td>2</td>\n",
              "      <td>2</td>\n",
              "      <td>50</td>\n",
              "      <td>90.0</td>\n",
              "      <td>8.0</td>\n",
              "      <td>8.0</td>\n",
              "      <td>10.0</td>\n",
              "      <td>10.0</td>\n",
              "      <td>9.0</td>\n",
              "      <td>9.0</td>\n",
              "      <td>0</td>\n",
              "      <td>1</td>\n",
              "      <td>0.36</td>\n",
              "      <td>0.244417</td>\n",
              "    </tr>\n",
              "    <tr>\n",
              "      <th>3</th>\n",
              "      <td>We welcome you to stay in our lovely 2 br dupl...</td>\n",
              "      <td>within a few hours</td>\n",
              "      <td>100.000000</td>\n",
              "      <td>0</td>\n",
              "      <td>Greenwood Heights</td>\n",
              "      <td>0</td>\n",
              "      <td>0</td>\n",
              "      <td>Sunset Park</td>\n",
              "      <td>Brooklyn</td>\n",
              "      <td>40.66120</td>\n",
              "      <td>-73.99423</td>\n",
              "      <td>Entire apartment</td>\n",
              "      <td>Entire home/apt</td>\n",
              "      <td>4</td>\n",
              "      <td>1.5 baths</td>\n",
              "      <td>2.0</td>\n",
              "      <td>2.0</td>\n",
              "      <td>[\"Wifi\", \"Dryer\", \"Air conditioning\", \"Kitchen...</td>\n",
              "      <td>175.0</td>\n",
              "      <td>7</td>\n",
              "      <td>24</td>\n",
              "      <td>54</td>\n",
              "      <td>84</td>\n",
              "      <td>359</td>\n",
              "      <td>1</td>\n",
              "      <td>97.0</td>\n",
              "      <td>10.0</td>\n",
              "      <td>10.0</td>\n",
              "      <td>10.0</td>\n",
              "      <td>10.0</td>\n",
              "      <td>8.0</td>\n",
              "      <td>10.0</td>\n",
              "      <td>0</td>\n",
              "      <td>1</td>\n",
              "      <td>0.01</td>\n",
              "      <td>0.227548</td>\n",
              "    </tr>\n",
              "    <tr>\n",
              "      <th>4</th>\n",
              "      <td>Please don’t expect the luxury here just a bas...</td>\n",
              "      <td>within a few hours</td>\n",
              "      <td>100.000000</td>\n",
              "      <td>100%</td>\n",
              "      <td>Hell's Kitchen</td>\n",
              "      <td>0</td>\n",
              "      <td>New York, United States</td>\n",
              "      <td>Hell's Kitchen</td>\n",
              "      <td>Manhattan</td>\n",
              "      <td>40.76489</td>\n",
              "      <td>-73.98493</td>\n",
              "      <td>Private room in apartment</td>\n",
              "      <td>Private room</td>\n",
              "      <td>2</td>\n",
              "      <td>1 bath</td>\n",
              "      <td>1.0</td>\n",
              "      <td>1.0</td>\n",
              "      <td>[\"Wifi\", \"Hangers\", \"Air conditioning\", \"Paid ...</td>\n",
              "      <td>73.0</td>\n",
              "      <td>2</td>\n",
              "      <td>29</td>\n",
              "      <td>53</td>\n",
              "      <td>78</td>\n",
              "      <td>350</td>\n",
              "      <td>473</td>\n",
              "      <td>84.0</td>\n",
              "      <td>9.0</td>\n",
              "      <td>7.0</td>\n",
              "      <td>9.0</td>\n",
              "      <td>9.0</td>\n",
              "      <td>10.0</td>\n",
              "      <td>9.0</td>\n",
              "      <td>0</td>\n",
              "      <td>1</td>\n",
              "      <td>3.40</td>\n",
              "      <td>0.046753</td>\n",
              "    </tr>\n",
              "  </tbody>\n",
              "</table>\n",
              "</div>"
            ],
            "text/plain": [
              "                                         description  ... sentiment\n",
              "0  Beautiful, spacious skylit studio in the heart...  ...  0.320801\n",
              "1  Enjoy 500 s.f. top floor in 1899 brownstone, w...  ...  0.167500\n",
              "2  <b>The space</b><br />HELLO EVERYONE AND THANK...  ...  0.244417\n",
              "3  We welcome you to stay in our lovely 2 br dupl...  ...  0.227548\n",
              "4  Please don’t expect the luxury here just a bas...  ...  0.046753\n",
              "\n",
              "[5 rows x 36 columns]"
            ]
          },
          "metadata": {
            "tags": []
          },
          "execution_count": 17
        }
      ]
    },
    {
      "cell_type": "code",
      "metadata": {
        "id": "9ix3GrBFDYCl",
        "colab": {
          "base_uri": "https://localhost:8080/"
        },
        "outputId": "044b2570-1249-44fc-b99c-9eda522e1d1e"
      },
      "source": [
        "data.isnull().sum()"
      ],
      "execution_count": 18,
      "outputs": [
        {
          "output_type": "execute_result",
          "data": {
            "text/plain": [
              "description                       0\n",
              "host_response_time                0\n",
              "host_response_rate                0\n",
              "host_acceptance_rate              0\n",
              "host_neighbourhood                0\n",
              "host_identity_verified            0\n",
              "neighbourhood                     0\n",
              "neighbourhood_cleansed            0\n",
              "neighbourhood_group_cleansed      0\n",
              "latitude                          0\n",
              "longitude                         0\n",
              "property_type                     0\n",
              "room_type                         0\n",
              "accommodates                      0\n",
              "bathrooms_text                    0\n",
              "bedrooms                          0\n",
              "beds                              0\n",
              "amenities                         0\n",
              "price                             0\n",
              "minimum_nights                    0\n",
              "availability_30                   0\n",
              "availability_60                   0\n",
              "availability_90                   0\n",
              "availability_365                  0\n",
              "number_of_reviews                 0\n",
              "review_scores_rating              0\n",
              "review_scores_accuracy            0\n",
              "review_scores_cleanliness         0\n",
              "review_scores_checkin             0\n",
              "review_scores_communication       0\n",
              "review_scores_location            0\n",
              "review_scores_value               0\n",
              "instant_bookable                  0\n",
              "calculated_host_listings_count    0\n",
              "reviews_per_month                 0\n",
              "sentiment                         0\n",
              "dtype: int64"
            ]
          },
          "metadata": {
            "tags": []
          },
          "execution_count": 18
        }
      ]
    },
    {
      "cell_type": "markdown",
      "metadata": {
        "id": "0trjprJWvXXj"
      },
      "source": [
        "Categorical data for neighbourhood "
      ]
    },
    {
      "cell_type": "code",
      "metadata": {
        "id": "5BV8nBJMvebK",
        "colab": {
          "base_uri": "https://localhost:8080/"
        },
        "outputId": "85ef0645-6ea1-4492-9999-96e13f5b45ce"
      },
      "source": [
        "data['neighbourhood_group_cleansed'].unique()"
      ],
      "execution_count": 19,
      "outputs": [
        {
          "output_type": "execute_result",
          "data": {
            "text/plain": [
              "array(['Manhattan', 'Brooklyn', 'Queens', 'Staten Island', 'Bronx'],\n",
              "      dtype=object)"
            ]
          },
          "metadata": {
            "tags": []
          },
          "execution_count": 19
        }
      ]
    },
    {
      "cell_type": "code",
      "metadata": {
        "colab": {
          "base_uri": "https://localhost:8080/"
        },
        "id": "0OxBgMOyIBBZ",
        "outputId": "3449c165-5b06-4abb-893d-da3bd2939fa3"
      },
      "source": [
        "data['neighbourhood_group_cleansed'] = data['neighbourhood_group_cleansed'].astype('category')\r\n",
        "data.dtypes"
      ],
      "execution_count": 20,
      "outputs": [
        {
          "output_type": "execute_result",
          "data": {
            "text/plain": [
              "description                         object\n",
              "host_response_time                  object\n",
              "host_response_rate                 float64\n",
              "host_acceptance_rate                object\n",
              "host_neighbourhood                  object\n",
              "host_identity_verified              object\n",
              "neighbourhood                       object\n",
              "neighbourhood_cleansed              object\n",
              "neighbourhood_group_cleansed      category\n",
              "latitude                           float64\n",
              "longitude                          float64\n",
              "property_type                       object\n",
              "room_type                           object\n",
              "accommodates                         int64\n",
              "bathrooms_text                      object\n",
              "bedrooms                           float64\n",
              "beds                               float64\n",
              "amenities                           object\n",
              "price                              float32\n",
              "minimum_nights                       int64\n",
              "availability_30                      int64\n",
              "availability_60                      int64\n",
              "availability_90                      int64\n",
              "availability_365                     int64\n",
              "number_of_reviews                    int64\n",
              "review_scores_rating               float64\n",
              "review_scores_accuracy             float64\n",
              "review_scores_cleanliness          float64\n",
              "review_scores_checkin              float64\n",
              "review_scores_communication        float64\n",
              "review_scores_location             float64\n",
              "review_scores_value                float64\n",
              "instant_bookable                     int64\n",
              "calculated_host_listings_count       int64\n",
              "reviews_per_month                  float64\n",
              "sentiment                          float64\n",
              "dtype: object"
            ]
          },
          "metadata": {
            "tags": []
          },
          "execution_count": 20
        }
      ]
    },
    {
      "cell_type": "markdown",
      "metadata": {
        "id": "At6lDqhwPG3I"
      },
      "source": [
        "assiging cat codes to categorical data"
      ]
    },
    {
      "cell_type": "code",
      "metadata": {
        "colab": {
          "base_uri": "https://localhost:8080/"
        },
        "id": "OZPB37_gLCrw",
        "outputId": "21bf39a2-2069-40c6-a8f7-09410196aab8"
      },
      "source": [
        "data['neighbourhood_group_cleansed'] = data['neighbourhood_group_cleansed'].cat.codes\r\n",
        "data['neighbourhood_group_cleansed']"
      ],
      "execution_count": 21,
      "outputs": [
        {
          "output_type": "execute_result",
          "data": {
            "text/plain": [
              "0        2\n",
              "1        1\n",
              "2        1\n",
              "3        1\n",
              "4        2\n",
              "        ..\n",
              "44659    3\n",
              "44662    2\n",
              "44663    1\n",
              "44664    2\n",
              "44665    2\n",
              "Name: neighbourhood_group_cleansed, Length: 41780, dtype: int8"
            ]
          },
          "metadata": {
            "tags": []
          },
          "execution_count": 21
        }
      ]
    },
    {
      "cell_type": "code",
      "metadata": {
        "id": "PXmFPULfvg31",
        "colab": {
          "base_uri": "https://localhost:8080/",
          "height": 482
        },
        "outputId": "48ddecea-3af0-4e25-bf81-629797d47769"
      },
      "source": [
        "labels = data.neighbourhood_group_cleansed.value_counts().index\r\n",
        "colors = ['#008fd5','#fc4f30','#e5ae38','#6d904f','#8b8b8b']\r\n",
        "\r\n",
        "shape = data.neighbourhood_group_cleansed.value_counts().values\r\n",
        "plt.figure(figsize=(8,8))\r\n",
        "plt.pie(shape, labels=shape, colors= colors, autopct = '%1.1f%%', startangle=90)\r\n",
        "plt.legend(labels)\r\n",
        "plt.title('Neighbourhood Group')\r\n",
        "plt.show()"
      ],
      "execution_count": 22,
      "outputs": [
        {
          "output_type": "display_data",
          "data": {
            "image/png": "[encoded data removed]",
            "text/plain": [
              "<Figure size 576x576 with 1 Axes>"
            ]
          },
          "metadata": {
            "tags": []
          }
        }
      ]
    },
    {
      "cell_type": "markdown",
      "metadata": {
        "id": "u-I0ZMVQvkJg"
      },
      "source": [
        "Categorical data for room types"
      ]
    },
    {
      "cell_type": "code",
      "metadata": {
        "colab": {
          "base_uri": "https://localhost:8080/"
        },
        "id": "Anwn9_c4ODCW",
        "outputId": "05f609ac-49e0-45cf-fe7f-3d905ea95000"
      },
      "source": [
        "data['room_type'] = data['room_type'].astype('category')\r\n",
        "data.dtypes"
      ],
      "execution_count": 23,
      "outputs": [
        {
          "output_type": "execute_result",
          "data": {
            "text/plain": [
              "description                         object\n",
              "host_response_time                  object\n",
              "host_response_rate                 float64\n",
              "host_acceptance_rate                object\n",
              "host_neighbourhood                  object\n",
              "host_identity_verified              object\n",
              "neighbourhood                       object\n",
              "neighbourhood_cleansed              object\n",
              "neighbourhood_group_cleansed          int8\n",
              "latitude                           float64\n",
              "longitude                          float64\n",
              "property_type                       object\n",
              "room_type                         category\n",
              "accommodates                         int64\n",
              "bathrooms_text                      object\n",
              "bedrooms                           float64\n",
              "beds                               float64\n",
              "amenities                           object\n",
              "price                              float32\n",
              "minimum_nights                       int64\n",
              "availability_30                      int64\n",
              "availability_60                      int64\n",
              "availability_90                      int64\n",
              "availability_365                     int64\n",
              "number_of_reviews                    int64\n",
              "review_scores_rating               float64\n",
              "review_scores_accuracy             float64\n",
              "review_scores_cleanliness          float64\n",
              "review_scores_checkin              float64\n",
              "review_scores_communication        float64\n",
              "review_scores_location             float64\n",
              "review_scores_value                float64\n",
              "instant_bookable                     int64\n",
              "calculated_host_listings_count       int64\n",
              "reviews_per_month                  float64\n",
              "sentiment                          float64\n",
              "dtype: object"
            ]
          },
          "metadata": {
            "tags": []
          },
          "execution_count": 23
        }
      ]
    },
    {
      "cell_type": "code",
      "metadata": {
        "colab": {
          "base_uri": "https://localhost:8080/"
        },
        "id": "cy-ed_AQOXuZ",
        "outputId": "df407584-0841-466b-af14-bc98b410de67"
      },
      "source": [
        "data['room_type'] = data['room_type'].cat.codes\r\n",
        "data['room_type']"
      ],
      "execution_count": 24,
      "outputs": [
        {
          "output_type": "execute_result",
          "data": {
            "text/plain": [
              "0        0\n",
              "1        0\n",
              "2        2\n",
              "3        0\n",
              "4        2\n",
              "        ..\n",
              "44659    0\n",
              "44662    0\n",
              "44663    0\n",
              "44664    2\n",
              "44665    2\n",
              "Name: room_type, Length: 41780, dtype: int8"
            ]
          },
          "metadata": {
            "tags": []
          },
          "execution_count": 24
        }
      ]
    },
    {
      "cell_type": "code",
      "metadata": {
        "id": "ubfgoeNMvoz6",
        "colab": {
          "base_uri": "https://localhost:8080/",
          "height": 499
        },
        "outputId": "e5ebbc0d-f7b6-4320-ec7c-61789739509b"
      },
      "source": [
        "labels = data.room_type.value_counts().index\r\n",
        "\r\n",
        "colors = ['#008fd5','#fc4f30','#e5ae38','#6d904f']\r\n",
        "\r\n",
        "shape = data.room_type.value_counts().values\r\n",
        "\r\n",
        "plt.figure(figsize=(8,8))\r\n",
        "plt.bar(labels, shape, color=colors)\r\n",
        "plt.title('Room type')\r\n",
        "plt.show()"
      ],
      "execution_count": 25,
      "outputs": [
        {
          "output_type": "display_data",
          "data": {
            "image/png": "[encoded data removed]",
            "text/plain": [
              "<Figure size 576x576 with 1 Axes>"
            ]
          },
          "metadata": {
            "tags": [],
            "needs_background": "light"
          }
        }
      ]
    },
    {
      "cell_type": "markdown",
      "metadata": {
        "id": "rlvW9En6vwj8"
      },
      "source": [
        "Corelation matrix "
      ]
    },
    {
      "cell_type": "code",
      "metadata": {
        "id": "B0jGG3SYvyxQ",
        "colab": {
          "base_uri": "https://localhost:8080/",
          "height": 1000
        },
        "outputId": "c2a383e0-72a5-4dc4-d78b-437b7b8a7fc3"
      },
      "source": [
        "corr_matrix = abs(data.corr())\r\n",
        "plt.figure(figsize=(20,20))\r\n",
        "title = 'Correlation matrix of data'\r\n",
        "sns.heatmap(corr_matrix,linewidths=0.25,vmax=1.0, square=True, cmap='RdYlGn',annot=True)\r\n",
        "plt.title(title)\r\n",
        "plt.ioff()"
      ],
      "execution_count": 26,
      "outputs": [
        {
          "output_type": "display_data",
          "data": {
            "image/png": "[encoded data removed]",
            "text/plain": [
              "<Figure size 1440x1440 with 2 Axes>"
            ]
          },
          "metadata": {
            "tags": [],
            "needs_background": "light"
          }
        }
      ]
    },
    {
      "cell_type": "code",
      "metadata": {
        "id": "anwsqxNuH9F3",
        "colab": {
          "base_uri": "https://localhost:8080/"
        },
        "outputId": "7c679c73-c96c-474a-dd25-0cae5e13c9fa"
      },
      "source": [
        "corr_matrix['price'].sort_values(ascending=False)"
      ],
      "execution_count": 27,
      "outputs": [
        {
          "output_type": "execute_result",
          "data": {
            "text/plain": [
              "price                             1.000000\n",
              "accommodates                      0.507079\n",
              "room_type                         0.505461\n",
              "bedrooms                          0.431505\n",
              "beds                              0.384550\n",
              "longitude                         0.246035\n",
              "sentiment                         0.081163\n",
              "availability_365                  0.067986\n",
              "review_scores_value               0.055931\n",
              "reviews_per_month                 0.055240\n",
              "availability_30                   0.055239\n",
              "review_scores_checkin             0.052686\n",
              "review_scores_communication       0.052433\n",
              "availability_90                   0.051495\n",
              "review_scores_accuracy            0.050581\n",
              "availability_60                   0.048947\n",
              "review_scores_rating              0.045069\n",
              "neighbourhood_group_cleansed      0.043901\n",
              "number_of_reviews                 0.043117\n",
              "latitude                          0.041695\n",
              "review_scores_location            0.039972\n",
              "review_scores_cleanliness         0.037064\n",
              "host_response_rate                0.026924\n",
              "calculated_host_listings_count    0.025934\n",
              "instant_bookable                  0.013638\n",
              "minimum_nights                    0.012771\n",
              "Name: price, dtype: float64"
            ]
          },
          "metadata": {
            "tags": []
          },
          "execution_count": 27
        }
      ]
    },
    {
      "cell_type": "markdown",
      "metadata": {
        "id": "VE4A8H9fDgbs"
      },
      "source": [
        "Applying Lasso"
      ]
    },
    {
      "cell_type": "code",
      "metadata": {
        "id": "xi6Nv1GfDkVg",
        "colab": {
          "base_uri": "https://localhost:8080/"
        },
        "outputId": "a647e5ba-e7be-4d89-bed0-68974cbd69c8"
      },
      "source": [
        "newData = data.select_dtypes(exclude='object')\r\n",
        "newData.fillna(0, inplace=True)\r\n",
        "newData.isnull().sum()"
      ],
      "execution_count": 28,
      "outputs": [
        {
          "output_type": "stream",
          "text": [
            "/usr/local/lib/python3.6/dist-packages/pandas/core/frame.py:4327: SettingWithCopyWarning: \n",
            "A value is trying to be set on a copy of a slice from a DataFrame\n",
            "\n",
            "See the caveats in the documentation: https://pandas.pydata.org/pandas-docs/stable/user_guide/indexing.html#returning-a-view-versus-a-copy\n",
            "  downcast=downcast,\n"
          ],
          "name": "stderr"
        },
        {
          "output_type": "execute_result",
          "data": {
            "text/plain": [
              "host_response_rate                0\n",
              "neighbourhood_group_cleansed      0\n",
              "latitude                          0\n",
              "longitude                         0\n",
              "room_type                         0\n",
              "accommodates                      0\n",
              "bedrooms                          0\n",
              "beds                              0\n",
              "price                             0\n",
              "minimum_nights                    0\n",
              "availability_30                   0\n",
              "availability_60                   0\n",
              "availability_90                   0\n",
              "availability_365                  0\n",
              "number_of_reviews                 0\n",
              "review_scores_rating              0\n",
              "review_scores_accuracy            0\n",
              "review_scores_cleanliness         0\n",
              "review_scores_checkin             0\n",
              "review_scores_communication       0\n",
              "review_scores_location            0\n",
              "review_scores_value               0\n",
              "instant_bookable                  0\n",
              "calculated_host_listings_count    0\n",
              "reviews_per_month                 0\n",
              "sentiment                         0\n",
              "dtype: int64"
            ]
          },
          "metadata": {
            "tags": []
          },
          "execution_count": 28
        }
      ]
    },
    {
      "cell_type": "code",
      "metadata": {
        "id": "lIVJxcxuDu8h",
        "colab": {
          "base_uri": "https://localhost:8080/",
          "height": 402
        },
        "outputId": "2dc71a18-a381-4981-b00a-da369a00e732"
      },
      "source": [
        "X = newData.iloc[:, newData.columns != 'price']\r\n",
        "Y = newData.iloc[:, newData.columns == 'price']\r\n",
        "Y"
      ],
      "execution_count": 29,
      "outputs": [
        {
          "output_type": "execute_result",
          "data": {
            "text/html": [
              "<div>\n",
              "<style scoped>\n",
              "    .dataframe tbody tr th:only-of-type {\n",
              "        vertical-align: middle;\n",
              "    }\n",
              "\n",
              "    .dataframe tbody tr th {\n",
              "        vertical-align: top;\n",
              "    }\n",
              "\n",
              "    .dataframe thead th {\n",
              "        text-align: right;\n",
              "    }\n",
              "</style>\n",
              "<table border=\"1\" class=\"dataframe\">\n",
              "  <thead>\n",
              "    <tr style=\"text-align: right;\">\n",
              "      <th></th>\n",
              "      <th>price</th>\n",
              "    </tr>\n",
              "  </thead>\n",
              "  <tbody>\n",
              "    <tr>\n",
              "      <th>0</th>\n",
              "      <td>175.0</td>\n",
              "    </tr>\n",
              "    <tr>\n",
              "      <th>1</th>\n",
              "      <td>76.0</td>\n",
              "    </tr>\n",
              "    <tr>\n",
              "      <th>2</th>\n",
              "      <td>60.0</td>\n",
              "    </tr>\n",
              "    <tr>\n",
              "      <th>3</th>\n",
              "      <td>175.0</td>\n",
              "    </tr>\n",
              "    <tr>\n",
              "      <th>4</th>\n",
              "      <td>73.0</td>\n",
              "    </tr>\n",
              "    <tr>\n",
              "      <th>...</th>\n",
              "      <td>...</td>\n",
              "    </tr>\n",
              "    <tr>\n",
              "      <th>44659</th>\n",
              "      <td>126.0</td>\n",
              "    </tr>\n",
              "    <tr>\n",
              "      <th>44662</th>\n",
              "      <td>200.0</td>\n",
              "    </tr>\n",
              "    <tr>\n",
              "      <th>44663</th>\n",
              "      <td>92.0</td>\n",
              "    </tr>\n",
              "    <tr>\n",
              "      <th>44664</th>\n",
              "      <td>120.0</td>\n",
              "    </tr>\n",
              "    <tr>\n",
              "      <th>44665</th>\n",
              "      <td>54.0</td>\n",
              "    </tr>\n",
              "  </tbody>\n",
              "</table>\n",
              "<p>41780 rows × 1 columns</p>\n",
              "</div>"
            ],
            "text/plain": [
              "       price\n",
              "0      175.0\n",
              "1       76.0\n",
              "2       60.0\n",
              "3      175.0\n",
              "4       73.0\n",
              "...      ...\n",
              "44659  126.0\n",
              "44662  200.0\n",
              "44663   92.0\n",
              "44664  120.0\n",
              "44665   54.0\n",
              "\n",
              "[41780 rows x 1 columns]"
            ]
          },
          "metadata": {
            "tags": []
          },
          "execution_count": 29
        }
      ]
    },
    {
      "cell_type": "code",
      "metadata": {
        "id": "9PcYF2a5DzjT"
      },
      "source": [
        "X_train, X_test, y_train, y_test = train_test_split(X, Y, test_size = 0.2, random_state = 0)\r\n",
        "std = StandardScaler()\r\n",
        "std.fit(X_train.values)\r\n",
        "X_tr_train = std.transform(X_train.values)\r\n",
        "X_tr_test = std.transform(X_test.values)"
      ],
      "execution_count": 30,
      "outputs": []
    },
    {
      "cell_type": "code",
      "metadata": {
        "id": "SzszX-0lD3JU",
        "colab": {
          "base_uri": "https://localhost:8080/"
        },
        "outputId": "67626aef-02be-4061-b338-762970ca49dd"
      },
      "source": [
        "alphavec = 10**np.linspace(-2,2,200)\r\n",
        "lasso_model_census = LassoCV(alphas = alphavec, cv=5)\r\n",
        "lasso_model_census.fit(X_tr_train, y_train)"
      ],
      "execution_count": 31,
      "outputs": [
        {
          "output_type": "stream",
          "text": [
            "/usr/local/lib/python3.6/dist-packages/sklearn/linear_model/_coordinate_descent.py:1088: DataConversionWarning: A column-vector y was passed when a 1d array was expected. Please change the shape of y to (n_samples, ), for example using ravel().\n",
            "  y = column_or_1d(y, warn=True)\n"
          ],
          "name": "stderr"
        },
        {
          "output_type": "execute_result",
          "data": {
            "text/plain": [
              "LassoCV(alphas=array([1.00000000e-02, 1.04737090e-02, 1.09698580e-02, 1.14895100e-02,\n",
              "       1.20337784e-02, 1.26038293e-02, 1.32008840e-02, 1.38262217e-02,\n",
              "       1.44811823e-02, 1.51671689e-02, 1.58856513e-02, 1.66381689e-02,\n",
              "       1.74263339e-02, 1.82518349e-02, 1.91164408e-02, 2.00220037e-02,\n",
              "       2.09704640e-02, 2.19638537e-02, 2.30043012e-02, 2.40940356e-02,\n",
              "       2.52353917e-02, 2.64308149e-0...\n",
              "       6.01027678e+01, 6.29498899e+01, 6.59318827e+01, 6.90551352e+01,\n",
              "       7.23263390e+01, 7.57525026e+01, 7.93409667e+01, 8.30994195e+01,\n",
              "       8.70359136e+01, 9.11588830e+01, 9.54771611e+01, 1.00000000e+02]),\n",
              "        copy_X=True, cv=5, eps=0.001, fit_intercept=True, max_iter=1000,\n",
              "        n_alphas=100, n_jobs=None, normalize=False, positive=False,\n",
              "        precompute='auto', random_state=None, selection='cyclic', tol=0.0001,\n",
              "        verbose=False)"
            ]
          },
          "metadata": {
            "tags": []
          },
          "execution_count": 31
        }
      ]
    },
    {
      "cell_type": "code",
      "metadata": {
        "id": "lHrSV-_oD7IO",
        "colab": {
          "base_uri": "https://localhost:8080/"
        },
        "outputId": "7e2ab6cc-680a-4615-e189-46627f0be33f"
      },
      "source": [
        "lasso_betas = list(zip(X_train.columns,\r\n",
        "lasso_model_census.coef_))# R2 of Training set\r\n",
        "lasso_model_census.score(X_tr_train,y_train)"
      ],
      "execution_count": 32,
      "outputs": [
        {
          "output_type": "execute_result",
          "data": {
            "text/plain": [
              "0.4311777192964117"
            ]
          },
          "metadata": {
            "tags": []
          },
          "execution_count": 32
        }
      ]
    },
    {
      "cell_type": "code",
      "metadata": {
        "id": "rUotBsHSD9I9",
        "colab": {
          "base_uri": "https://localhost:8080/"
        },
        "outputId": "3246c357-75c8-488f-c7be-5353e061dc2c"
      },
      "source": [
        "lasso_betas"
      ],
      "execution_count": 33,
      "outputs": [
        {
          "output_type": "execute_result",
          "data": {
            "text/plain": [
              "[('host_response_rate', -1.4265300455536254),\n",
              " ('neighbourhood_group_cleansed', 4.861287158399593),\n",
              " ('latitude', 6.207902254458931),\n",
              " ('longitude', -17.501504991379147),\n",
              " ('room_type', -27.276735632455765),\n",
              " ('accommodates', 23.83710397654729),\n",
              " ('bedrooms', 16.177100217768462),\n",
              " ('beds', -2.7558555403102147),\n",
              " ('minimum_nights', -4.818272617449799),\n",
              " ('availability_30', 21.405469444269627),\n",
              " ('availability_60', -17.635554768271916),\n",
              " ('availability_90', 3.9431387685669224),\n",
              " ('availability_365', -0.11989183341319604),\n",
              " ('number_of_reviews', 0.21588417586861022),\n",
              " ('review_scores_rating', 17.810939332071197),\n",
              " ('review_scores_accuracy', -6.608031236627313),\n",
              " ('review_scores_cleanliness', 22.027533775593856),\n",
              " ('review_scores_checkin', -12.243289064122528),\n",
              " ('review_scores_communication', -22.48750005118473),\n",
              " ('review_scores_location', 22.583944730889574),\n",
              " ('review_scores_value', -25.391925584432066),\n",
              " ('instant_bookable', 1.450409035312606),\n",
              " ('calculated_host_listings_count', 1.0967158394010157),\n",
              " ('reviews_per_month', -5.71429195425626),\n",
              " ('sentiment', 2.6568587481925086)]"
            ]
          },
          "metadata": {
            "tags": []
          },
          "execution_count": 33
        }
      ]
    },
    {
      "cell_type": "code",
      "metadata": {
        "id": "QD-XiSABD_WP",
        "colab": {
          "base_uri": "https://localhost:8080/",
          "height": 295
        },
        "outputId": "45a32148-9080-480e-8d35-998218647c0f"
      },
      "source": [
        "y_pred = lasso_model_census.predict(X_tr_test)\r\n",
        "y_pred = y_pred.reshape(len(y_pred), 1)\r\n",
        "r2_score(y_test, y_pred)\r\n",
        "def mae(y_true, y_pred):\r\n",
        "    return np.mean(np.abs(y_pred - y_true))\r\n",
        "    \r\n",
        "mae(y_test, y_pred)\r\n",
        "plt.scatter(y_test, y_pred)\r\n",
        "plt.plot([0,10],[0,10],color='red')\r\n",
        "plt.grid(True)\r\n",
        "plt.title('Predicted vs. Actual Price with LASSO')\r\n",
        "plt.ylabel('Rental Price Predicted')\r\n",
        "plt.xlabel('Rental Price Actual');"
      ],
      "execution_count": 34,
      "outputs": [
        {
          "output_type": "display_data",
          "data": {
            "image/png": "[encoded data removed]",
            "text/plain": [
              "<Figure size 432x288 with 1 Axes>"
            ]
          },
          "metadata": {
            "tags": [],
            "needs_background": "light"
          }
        }
      ]
    },
    {
      "cell_type": "markdown",
      "metadata": {
        "id": "48ACoqBZwGsv"
      },
      "source": [
        "Taking the important fields affecting Prices"
      ]
    },
    {
      "cell_type": "code",
      "metadata": {
        "id": "vZ0xKEJYwL5O",
        "colab": {
          "base_uri": "https://localhost:8080/"
        },
        "outputId": "1a3cca77-751a-43cc-8ef6-9d5d2356f5d6"
      },
      "source": [
        "X = data.loc[:,['accommodates','neighbourhood_group_cleansed','room_type',\r\n",
        "                'bedrooms','beds','availability_30','review_scores_rating',\r\n",
        "                'review_scores_cleanliness','review_scores_location',\r\n",
        "                'instant_bookable', 'number_of_reviews','minimum_nights',\r\n",
        "                'calculated_host_listings_count','latitude','longitude','sentiment'\r\n",
        "                ]].values\r\n",
        "y = data['price'].values\r\n",
        "y = np.log10(y)\r\n",
        "X.shape"
      ],
      "execution_count": 35,
      "outputs": [
        {
          "output_type": "execute_result",
          "data": {
            "text/plain": [
              "(41780, 16)"
            ]
          },
          "metadata": {
            "tags": []
          },
          "execution_count": 35
        }
      ]
    },
    {
      "cell_type": "markdown",
      "metadata": {
        "id": "A63csnbywSjT"
      },
      "source": [
        "Seperating the data into Train and Test set"
      ]
    },
    {
      "cell_type": "code",
      "metadata": {
        "id": "q2M8NtJ6wV4S"
      },
      "source": [
        "from sklearn.model_selection import train_test_split\r\n",
        "X_train, X_test, y_train, y_test = train_test_split(X, y, test_size = 0.2, random_state = 0)"
      ],
      "execution_count": 36,
      "outputs": []
    },
    {
      "cell_type": "markdown",
      "metadata": {
        "id": "h38T3Oi0wz__"
      },
      "source": [
        "Linear regression Model"
      ]
    },
    {
      "cell_type": "code",
      "metadata": {
        "id": "-qiRD8okw3LB",
        "colab": {
          "base_uri": "https://localhost:8080/"
        },
        "outputId": "27b86382-5834-4871-cb19-a7c2f4e03e6d"
      },
      "source": [
        "from sklearn.linear_model import LinearRegression\r\n",
        "linear_reg = LinearRegression()\r\n",
        "linear_reg.fit(X_train, y_train)\r\n",
        "y_pred = linear_reg.predict(X_test)\r\n",
        "y_test.shape"
      ],
      "execution_count": 37,
      "outputs": [
        {
          "output_type": "execute_result",
          "data": {
            "text/plain": [
              "(8356,)"
            ]
          },
          "metadata": {
            "tags": []
          },
          "execution_count": 37
        }
      ]
    },
    {
      "cell_type": "code",
      "metadata": {
        "id": "fJyYo_4xx35g",
        "colab": {
          "base_uri": "https://localhost:8080/",
          "height": 343
        },
        "outputId": "ab84f32f-e537-4ee6-82cb-86467c030975"
      },
      "source": [
        "lr_matrix = pd.DataFrame({'Actual': np.round(10 ** y_test, 0), \r\n",
        "                       'Predicted': np.round(10 ** y_pred, 0)})\r\n",
        "lr_matrix.head(10)"
      ],
      "execution_count": 38,
      "outputs": [
        {
          "output_type": "execute_result",
          "data": {
            "text/html": [
              "<div>\n",
              "<style scoped>\n",
              "    .dataframe tbody tr th:only-of-type {\n",
              "        vertical-align: middle;\n",
              "    }\n",
              "\n",
              "    .dataframe tbody tr th {\n",
              "        vertical-align: top;\n",
              "    }\n",
              "\n",
              "    .dataframe thead th {\n",
              "        text-align: right;\n",
              "    }\n",
              "</style>\n",
              "<table border=\"1\" class=\"dataframe\">\n",
              "  <thead>\n",
              "    <tr style=\"text-align: right;\">\n",
              "      <th></th>\n",
              "      <th>Actual</th>\n",
              "      <th>Predicted</th>\n",
              "    </tr>\n",
              "  </thead>\n",
              "  <tbody>\n",
              "    <tr>\n",
              "      <th>0</th>\n",
              "      <td>160.0</td>\n",
              "      <td>105.0</td>\n",
              "    </tr>\n",
              "    <tr>\n",
              "      <th>1</th>\n",
              "      <td>200.0</td>\n",
              "      <td>71.0</td>\n",
              "    </tr>\n",
              "    <tr>\n",
              "      <th>2</th>\n",
              "      <td>175.0</td>\n",
              "      <td>116.0</td>\n",
              "    </tr>\n",
              "    <tr>\n",
              "      <th>3</th>\n",
              "      <td>60.0</td>\n",
              "      <td>114.0</td>\n",
              "    </tr>\n",
              "    <tr>\n",
              "      <th>4</th>\n",
              "      <td>175.0</td>\n",
              "      <td>138.0</td>\n",
              "    </tr>\n",
              "    <tr>\n",
              "      <th>5</th>\n",
              "      <td>72.0</td>\n",
              "      <td>70.0</td>\n",
              "    </tr>\n",
              "    <tr>\n",
              "      <th>6</th>\n",
              "      <td>51.0</td>\n",
              "      <td>64.0</td>\n",
              "    </tr>\n",
              "    <tr>\n",
              "      <th>7</th>\n",
              "      <td>206.0</td>\n",
              "      <td>105.0</td>\n",
              "    </tr>\n",
              "    <tr>\n",
              "      <th>8</th>\n",
              "      <td>150.0</td>\n",
              "      <td>211.0</td>\n",
              "    </tr>\n",
              "    <tr>\n",
              "      <th>9</th>\n",
              "      <td>96.0</td>\n",
              "      <td>112.0</td>\n",
              "    </tr>\n",
              "  </tbody>\n",
              "</table>\n",
              "</div>"
            ],
            "text/plain": [
              "   Actual  Predicted\n",
              "0   160.0      105.0\n",
              "1   200.0       71.0\n",
              "2   175.0      116.0\n",
              "3    60.0      114.0\n",
              "4   175.0      138.0\n",
              "5    72.0       70.0\n",
              "6    51.0       64.0\n",
              "7   206.0      105.0\n",
              "8   150.0      211.0\n",
              "9    96.0      112.0"
            ]
          },
          "metadata": {
            "tags": []
          },
          "execution_count": 38
        }
      ]
    },
    {
      "cell_type": "markdown",
      "metadata": {
        "id": "3Vx38kqHP8qJ"
      },
      "source": [
        "Result"
      ]
    },
    {
      "cell_type": "code",
      "metadata": {
        "id": "fKT2Ld4By6Ro",
        "colab": {
          "base_uri": "https://localhost:8080/"
        },
        "outputId": "c9c1ba57-96c7-47bd-9f44-9b2dc59f004e"
      },
      "source": [
        "from sklearn.metrics import mean_squared_error\r\n",
        "from sklearn import metrics\r\n",
        "from sklearn.metrics import r2_score\r\n",
        "print('Price mean:', np.round(np.mean(y), 2))  \r\n",
        "print('Price std:', np.round(np.std(y), 2))\r\n",
        "print('RMSE:', np.round(np.sqrt(metrics.mean_squared_error(y_test, linear_reg.predict(X_test))), 2))\r\n",
        "print('R2 score train:', np.round(r2_score(y_train, linear_reg.predict(X_train), multioutput='variance_weighted'), 2))\r\n",
        "print('R2 score test:', np.round(r2_score(y_test, linear_reg.predict(X_test), multioutput='variance_weighted'), 2))"
      ],
      "execution_count": 39,
      "outputs": [
        {
          "output_type": "stream",
          "text": [
            "Price mean: 2.01\n",
            "Price std: 0.28\n",
            "RMSE: 0.19\n",
            "R2 score train: 0.53\n",
            "R2 score test: 0.53\n"
          ],
          "name": "stdout"
        }
      ]
    },
    {
      "cell_type": "code",
      "metadata": {
        "colab": {
          "base_uri": "https://localhost:8080/",
          "height": 297
        },
        "id": "HClaYBDQAaX5",
        "outputId": "00bd02b9-fbbf-4be9-e2e2-a53412c9f3e7"
      },
      "source": [
        "plt.scatter(y_test, y_pred, color='blue')\r\n",
        "plt.xlabel('Ground_truth_price')\r\n",
        "plt.ylabel('Predicted_price')\r\n",
        "plt.legend()\r\n",
        "plt.show()"
      ],
      "execution_count": 40,
      "outputs": [
        {
          "output_type": "stream",
          "text": [
            "No handles with labels found to put in legend.\n"
          ],
          "name": "stderr"
        },
        {
          "output_type": "display_data",
          "data": {
            "image/png": "[encoded data removed]",
            "text/plain": [
              "<Figure size 432x288 with 1 Axes>"
            ]
          },
          "metadata": {
            "tags": [],
            "needs_background": "light"
          }
        }
      ]
    },
    {
      "cell_type": "markdown",
      "metadata": {
        "id": "Z6ghiOeQ0886"
      },
      "source": [
        "Ridge Regression Model"
      ]
    },
    {
      "cell_type": "code",
      "metadata": {
        "id": "4_cgP5DM0_DR"
      },
      "source": [
        "from sklearn.linear_model import Ridge\r\n",
        "ridge_reg = Ridge(alpha=1.0)\r\n",
        "ridge_reg.fit(X_train, y_train)\r\n",
        "y_pred = ridge_reg.predict(X_test)"
      ],
      "execution_count": 41,
      "outputs": []
    },
    {
      "cell_type": "code",
      "metadata": {
        "colab": {
          "base_uri": "https://localhost:8080/",
          "height": 343
        },
        "id": "CAEWC_MU1eNN",
        "outputId": "b3b5c6bc-775f-4375-ebd5-fff92ef4069b"
      },
      "source": [
        "rd_matrix = pd.DataFrame({'Actual': np.round(10 ** y_test, 0), \r\n",
        "                       'Predicted': np.round(10 ** y_pred, 0)})\r\n",
        "rd_matrix.head(10)"
      ],
      "execution_count": 42,
      "outputs": [
        {
          "output_type": "execute_result",
          "data": {
            "text/html": [
              "<div>\n",
              "<style scoped>\n",
              "    .dataframe tbody tr th:only-of-type {\n",
              "        vertical-align: middle;\n",
              "    }\n",
              "\n",
              "    .dataframe tbody tr th {\n",
              "        vertical-align: top;\n",
              "    }\n",
              "\n",
              "    .dataframe thead th {\n",
              "        text-align: right;\n",
              "    }\n",
              "</style>\n",
              "<table border=\"1\" class=\"dataframe\">\n",
              "  <thead>\n",
              "    <tr style=\"text-align: right;\">\n",
              "      <th></th>\n",
              "      <th>Actual</th>\n",
              "      <th>Predicted</th>\n",
              "    </tr>\n",
              "  </thead>\n",
              "  <tbody>\n",
              "    <tr>\n",
              "      <th>0</th>\n",
              "      <td>160.0</td>\n",
              "      <td>105.0</td>\n",
              "    </tr>\n",
              "    <tr>\n",
              "      <th>1</th>\n",
              "      <td>200.0</td>\n",
              "      <td>71.0</td>\n",
              "    </tr>\n",
              "    <tr>\n",
              "      <th>2</th>\n",
              "      <td>175.0</td>\n",
              "      <td>116.0</td>\n",
              "    </tr>\n",
              "    <tr>\n",
              "      <th>3</th>\n",
              "      <td>60.0</td>\n",
              "      <td>113.0</td>\n",
              "    </tr>\n",
              "    <tr>\n",
              "      <th>4</th>\n",
              "      <td>175.0</td>\n",
              "      <td>137.0</td>\n",
              "    </tr>\n",
              "    <tr>\n",
              "      <th>5</th>\n",
              "      <td>72.0</td>\n",
              "      <td>70.0</td>\n",
              "    </tr>\n",
              "    <tr>\n",
              "      <th>6</th>\n",
              "      <td>51.0</td>\n",
              "      <td>64.0</td>\n",
              "    </tr>\n",
              "    <tr>\n",
              "      <th>7</th>\n",
              "      <td>206.0</td>\n",
              "      <td>105.0</td>\n",
              "    </tr>\n",
              "    <tr>\n",
              "      <th>8</th>\n",
              "      <td>150.0</td>\n",
              "      <td>211.0</td>\n",
              "    </tr>\n",
              "    <tr>\n",
              "      <th>9</th>\n",
              "      <td>96.0</td>\n",
              "      <td>112.0</td>\n",
              "    </tr>\n",
              "  </tbody>\n",
              "</table>\n",
              "</div>"
            ],
            "text/plain": [
              "   Actual  Predicted\n",
              "0   160.0      105.0\n",
              "1   200.0       71.0\n",
              "2   175.0      116.0\n",
              "3    60.0      113.0\n",
              "4   175.0      137.0\n",
              "5    72.0       70.0\n",
              "6    51.0       64.0\n",
              "7   206.0      105.0\n",
              "8   150.0      211.0\n",
              "9    96.0      112.0"
            ]
          },
          "metadata": {
            "tags": []
          },
          "execution_count": 42
        }
      ]
    },
    {
      "cell_type": "markdown",
      "metadata": {
        "id": "op0pVDVVQGen"
      },
      "source": [
        "Result"
      ]
    },
    {
      "cell_type": "code",
      "metadata": {
        "id": "8XXLqW4L1QVK",
        "colab": {
          "base_uri": "https://localhost:8080/"
        },
        "outputId": "02a6e03e-2b83-448b-de8d-5353040d6d76"
      },
      "source": [
        "print('Price mean:', np.round(np.mean(y), 2))  \r\n",
        "print('Price std:', np.round(np.std(y), 2))\r\n",
        "print('RMSE:', np.round(np.sqrt(metrics.mean_squared_error(y_test, ridge_reg.predict(X_test))), 2))\r\n",
        "print('R2 score train:', np.round(r2_score(y_train, ridge_reg.predict(X_train), multioutput='variance_weighted'), 2))\r\n",
        "print('R2 score test:', np.round(r2_score(y_test, ridge_reg.predict(X_test), multioutput='variance_weighted'), 2))"
      ],
      "execution_count": 43,
      "outputs": [
        {
          "output_type": "stream",
          "text": [
            "Price mean: 2.01\n",
            "Price std: 0.28\n",
            "RMSE: 0.19\n",
            "R2 score train: 0.53\n",
            "R2 score test: 0.53\n"
          ],
          "name": "stdout"
        }
      ]
    },
    {
      "cell_type": "code",
      "metadata": {
        "colab": {
          "base_uri": "https://localhost:8080/",
          "height": 297
        },
        "id": "u91FbIvuApEX",
        "outputId": "6ed44924-8590-4d5c-cdcf-8dc3d72a2b40"
      },
      "source": [
        "plt.scatter(y_test, y_pred, color='yellow')\r\n",
        "plt.xlabel('Ground_truth_price')\r\n",
        "plt.ylabel('Predicted_price')\r\n",
        "plt.legend()\r\n",
        "plt.show()"
      ],
      "execution_count": 44,
      "outputs": [
        {
          "output_type": "stream",
          "text": [
            "No handles with labels found to put in legend.\n"
          ],
          "name": "stderr"
        },
        {
          "output_type": "display_data",
          "data": {
            "image/png": "[encoded data removed]",
            "text/plain": [
              "<Figure size 432x288 with 1 Axes>"
            ]
          },
          "metadata": {
            "tags": [],
            "needs_background": "light"
          }
        }
      ]
    },
    {
      "cell_type": "markdown",
      "metadata": {
        "id": "0bhdCzYh1Y82"
      },
      "source": [
        "Support Vector Regression"
      ]
    },
    {
      "cell_type": "code",
      "metadata": {
        "id": "Y_5R26SO1cHJ"
      },
      "source": [
        "from sklearn.svm import SVR\r\n",
        "from sklearn.preprocessing import StandardScaler\r\n",
        "stan_sc = StandardScaler()\r\n",
        "X_train = stan_sc.fit_transform(X_train)\r\n",
        "X_test  = stan_sc.transform(X_test)\r\n"
      ],
      "execution_count": 45,
      "outputs": []
    },
    {
      "cell_type": "code",
      "metadata": {
        "id": "Ng3gR2MqDbF8"
      },
      "source": [
        "svr_regressor = SVR(kernel='rbf')\r\n",
        "svr_regressor.fit(X_train,y_train)\r\n",
        "y_pred = svr_regressor.predict(X_test)"
      ],
      "execution_count": 46,
      "outputs": []
    },
    {
      "cell_type": "code",
      "metadata": {
        "colab": {
          "base_uri": "https://localhost:8080/"
        },
        "id": "wtzZ1RfeFJhN",
        "outputId": "9fe97d4a-ed5a-405a-ed15-54db233d5d49"
      },
      "source": [
        "svr_regressor.score(X_test, y_test)"
      ],
      "execution_count": 47,
      "outputs": [
        {
          "output_type": "execute_result",
          "data": {
            "text/plain": [
              "0.6629114249576599"
            ]
          },
          "metadata": {
            "tags": []
          },
          "execution_count": 47
        }
      ]
    },
    {
      "cell_type": "markdown",
      "metadata": {
        "id": "uOf583X2QMGN"
      },
      "source": [
        "Result"
      ]
    },
    {
      "cell_type": "code",
      "metadata": {
        "id": "41CbQzkM1lwW",
        "colab": {
          "base_uri": "https://localhost:8080/"
        },
        "outputId": "2689ed94-ef4d-4660-ecb7-6bd3539883b2"
      },
      "source": [
        "print('Price mean:', np.round(np.mean(y), 2))  \r\n",
        "print('Price std:', np.round(np.std(y), 2))\r\n",
        "print('RMSE:', np.round(np.sqrt(metrics.mean_squared_error(y_test, svr_regressor.predict(X_test))), 2))\r\n",
        "print('R2 score train:', np.round(r2_score(y_train, svr_regressor.predict(X_train), multioutput='variance_weighted'), 2))\r\n",
        "print('R2 score test:', np.round(r2_score(y_test, svr_regressor.predict(X_test), multioutput='variance_weighted'), 2))"
      ],
      "execution_count": 48,
      "outputs": [
        {
          "output_type": "stream",
          "text": [
            "Price mean: 2.01\n",
            "Price std: 0.28\n",
            "RMSE: 0.16\n",
            "R2 score train: 0.7\n",
            "R2 score test: 0.66\n"
          ],
          "name": "stdout"
        }
      ]
    },
    {
      "cell_type": "code",
      "metadata": {
        "colab": {
          "base_uri": "https://localhost:8080/",
          "height": 343
        },
        "id": "zV1RHnko1uvW",
        "outputId": "ec7c118f-7ee1-4eb5-dc38-2f8bb07b172f"
      },
      "source": [
        "rd_matrix = pd.DataFrame({'Actual': np.round(10 ** y_test, 0), \r\n",
        "                       'Predicted': np.round(10 ** y_pred, 0)})\r\n",
        "rd_matrix.head(10)"
      ],
      "execution_count": 49,
      "outputs": [
        {
          "output_type": "execute_result",
          "data": {
            "text/html": [
              "<div>\n",
              "<style scoped>\n",
              "    .dataframe tbody tr th:only-of-type {\n",
              "        vertical-align: middle;\n",
              "    }\n",
              "\n",
              "    .dataframe tbody tr th {\n",
              "        vertical-align: top;\n",
              "    }\n",
              "\n",
              "    .dataframe thead th {\n",
              "        text-align: right;\n",
              "    }\n",
              "</style>\n",
              "<table border=\"1\" class=\"dataframe\">\n",
              "  <thead>\n",
              "    <tr style=\"text-align: right;\">\n",
              "      <th></th>\n",
              "      <th>Actual</th>\n",
              "      <th>Predicted</th>\n",
              "    </tr>\n",
              "  </thead>\n",
              "  <tbody>\n",
              "    <tr>\n",
              "      <th>0</th>\n",
              "      <td>160.0</td>\n",
              "      <td>124.0</td>\n",
              "    </tr>\n",
              "    <tr>\n",
              "      <th>1</th>\n",
              "      <td>200.0</td>\n",
              "      <td>76.0</td>\n",
              "    </tr>\n",
              "    <tr>\n",
              "      <th>2</th>\n",
              "      <td>175.0</td>\n",
              "      <td>91.0</td>\n",
              "    </tr>\n",
              "    <tr>\n",
              "      <th>3</th>\n",
              "      <td>60.0</td>\n",
              "      <td>68.0</td>\n",
              "    </tr>\n",
              "    <tr>\n",
              "      <th>4</th>\n",
              "      <td>175.0</td>\n",
              "      <td>160.0</td>\n",
              "    </tr>\n",
              "    <tr>\n",
              "      <th>5</th>\n",
              "      <td>72.0</td>\n",
              "      <td>70.0</td>\n",
              "    </tr>\n",
              "    <tr>\n",
              "      <th>6</th>\n",
              "      <td>51.0</td>\n",
              "      <td>59.0</td>\n",
              "    </tr>\n",
              "    <tr>\n",
              "      <th>7</th>\n",
              "      <td>206.0</td>\n",
              "      <td>128.0</td>\n",
              "    </tr>\n",
              "    <tr>\n",
              "      <th>8</th>\n",
              "      <td>150.0</td>\n",
              "      <td>247.0</td>\n",
              "    </tr>\n",
              "    <tr>\n",
              "      <th>9</th>\n",
              "      <td>96.0</td>\n",
              "      <td>110.0</td>\n",
              "    </tr>\n",
              "  </tbody>\n",
              "</table>\n",
              "</div>"
            ],
            "text/plain": [
              "   Actual  Predicted\n",
              "0   160.0      124.0\n",
              "1   200.0       76.0\n",
              "2   175.0       91.0\n",
              "3    60.0       68.0\n",
              "4   175.0      160.0\n",
              "5    72.0       70.0\n",
              "6    51.0       59.0\n",
              "7   206.0      128.0\n",
              "8   150.0      247.0\n",
              "9    96.0      110.0"
            ]
          },
          "metadata": {
            "tags": []
          },
          "execution_count": 49
        }
      ]
    },
    {
      "cell_type": "code",
      "metadata": {
        "colab": {
          "base_uri": "https://localhost:8080/"
        },
        "id": "9v4rMoolxA-u",
        "outputId": "bf53075c-462f-4ccb-8aef-51524a2ef52b"
      },
      "source": [
        "print('Accuracy of logistic regression  classifier on test set: {:.2f}'.format(svr_regressor.score(X_test, y_test)))"
      ],
      "execution_count": 50,
      "outputs": [
        {
          "output_type": "stream",
          "text": [
            "Accuracy of logistic regression  classifier on test set: 0.66\n"
          ],
          "name": "stdout"
        }
      ]
    },
    {
      "cell_type": "code",
      "metadata": {
        "colab": {
          "base_uri": "https://localhost:8080/",
          "height": 297
        },
        "id": "XXJIPz1OBGFB",
        "outputId": "2245585d-197e-410d-8638-48083a73421e"
      },
      "source": [
        "plt.scatter(y_test, y_pred, color='navy')\r\n",
        "plt.xlabel('Ground_truth_price')\r\n",
        "plt.ylabel('Predicted_price')\r\n",
        "plt.legend()\r\n",
        "plt.show()"
      ],
      "execution_count": 51,
      "outputs": [
        {
          "output_type": "stream",
          "text": [
            "No handles with labels found to put in legend.\n"
          ],
          "name": "stderr"
        },
        {
          "output_type": "display_data",
          "data": {
            "image/png": "[encoded data removed]",
            "text/plain": [
              "<Figure size 432x288 with 1 Axes>"
            ]
          },
          "metadata": {
            "tags": [],
            "needs_background": "light"
          }
        }
      ]
    },
    {
      "cell_type": "markdown",
      "metadata": {
        "id": "IwP6t05azFk_"
      },
      "source": [
        "Random forest method model"
      ]
    },
    {
      "cell_type": "code",
      "metadata": {
        "id": "FYVmicHVzKuL",
        "colab": {
          "base_uri": "https://localhost:8080/"
        },
        "outputId": "3de0fde7-469a-4e32-c6a5-841e057b4655"
      },
      "source": [
        "from sklearn.ensemble import RandomForestRegressor\r\n",
        "rf_reg = RandomForestRegressor(max_depth=8, n_estimators = 100, random_state = 0)\r\n",
        "rf_reg.fit(X_train, y_train)\r\n",
        "y_pred = rf_reg.predict(X_test)\r\n",
        "y_pred"
      ],
      "execution_count": 52,
      "outputs": [
        {
          "output_type": "execute_result",
          "data": {
            "text/plain": [
              "array([2.1598295 , 1.8725513 , 2.06399247, ..., 1.8513777 , 1.87977483,\n",
              "       1.86047491])"
            ]
          },
          "metadata": {
            "tags": []
          },
          "execution_count": 52
        }
      ]
    },
    {
      "cell_type": "code",
      "metadata": {
        "id": "cxRRezs-zZA3",
        "colab": {
          "base_uri": "https://localhost:8080/",
          "height": 343
        },
        "outputId": "1366c1f8-6c54-412a-b057-efbc5e34352a"
      },
      "source": [
        "rf_matrix = pd.DataFrame({'Actual': np.round(10 ** y_test, 0), \r\n",
        "                   'Predicted': np.round(10 ** y_pred, 0)})\r\n",
        "rf_matrix.head(10)"
      ],
      "execution_count": 53,
      "outputs": [
        {
          "output_type": "execute_result",
          "data": {
            "text/html": [
              "<div>\n",
              "<style scoped>\n",
              "    .dataframe tbody tr th:only-of-type {\n",
              "        vertical-align: middle;\n",
              "    }\n",
              "\n",
              "    .dataframe tbody tr th {\n",
              "        vertical-align: top;\n",
              "    }\n",
              "\n",
              "    .dataframe thead th {\n",
              "        text-align: right;\n",
              "    }\n",
              "</style>\n",
              "<table border=\"1\" class=\"dataframe\">\n",
              "  <thead>\n",
              "    <tr style=\"text-align: right;\">\n",
              "      <th></th>\n",
              "      <th>Actual</th>\n",
              "      <th>Predicted</th>\n",
              "    </tr>\n",
              "  </thead>\n",
              "  <tbody>\n",
              "    <tr>\n",
              "      <th>0</th>\n",
              "      <td>160.0</td>\n",
              "      <td>144.0</td>\n",
              "    </tr>\n",
              "    <tr>\n",
              "      <th>1</th>\n",
              "      <td>200.0</td>\n",
              "      <td>75.0</td>\n",
              "    </tr>\n",
              "    <tr>\n",
              "      <th>2</th>\n",
              "      <td>175.0</td>\n",
              "      <td>116.0</td>\n",
              "    </tr>\n",
              "    <tr>\n",
              "      <th>3</th>\n",
              "      <td>60.0</td>\n",
              "      <td>65.0</td>\n",
              "    </tr>\n",
              "    <tr>\n",
              "      <th>4</th>\n",
              "      <td>175.0</td>\n",
              "      <td>156.0</td>\n",
              "    </tr>\n",
              "    <tr>\n",
              "      <th>5</th>\n",
              "      <td>72.0</td>\n",
              "      <td>71.0</td>\n",
              "    </tr>\n",
              "    <tr>\n",
              "      <th>6</th>\n",
              "      <td>51.0</td>\n",
              "      <td>50.0</td>\n",
              "    </tr>\n",
              "    <tr>\n",
              "      <th>7</th>\n",
              "      <td>206.0</td>\n",
              "      <td>138.0</td>\n",
              "    </tr>\n",
              "    <tr>\n",
              "      <th>8</th>\n",
              "      <td>150.0</td>\n",
              "      <td>168.0</td>\n",
              "    </tr>\n",
              "    <tr>\n",
              "      <th>9</th>\n",
              "      <td>96.0</td>\n",
              "      <td>106.0</td>\n",
              "    </tr>\n",
              "  </tbody>\n",
              "</table>\n",
              "</div>"
            ],
            "text/plain": [
              "   Actual  Predicted\n",
              "0   160.0      144.0\n",
              "1   200.0       75.0\n",
              "2   175.0      116.0\n",
              "3    60.0       65.0\n",
              "4   175.0      156.0\n",
              "5    72.0       71.0\n",
              "6    51.0       50.0\n",
              "7   206.0      138.0\n",
              "8   150.0      168.0\n",
              "9    96.0      106.0"
            ]
          },
          "metadata": {
            "tags": []
          },
          "execution_count": 53
        }
      ]
    },
    {
      "cell_type": "code",
      "metadata": {
        "id": "Gycz2n4Bzg4V",
        "colab": {
          "base_uri": "https://localhost:8080/"
        },
        "outputId": "7089dc1b-34ad-4ee4-fc29-86176e2d18bb"
      },
      "source": [
        "from sklearn.metrics import mean_absolute_error\r\n",
        "print('Price mean:', np.round(np.mean(y), 2))  \r\n",
        "print('Price std:', np.round(np.std(y), 2))\r\n",
        "print('RMSE:', np.round(np.sqrt(metrics.mean_squared_error(y_test, rf_reg.predict(X_test))), 2))\r\n",
        "print('R2 score train:', np.round(r2_score(y_train, rf_reg.predict(X_train), multioutput='variance_weighted'), 2))\r\n",
        "print('R2 score test:', np.round(r2_score(y_test, rf_reg.predict(X_test), multioutput='variance_weighted'), 2))"
      ],
      "execution_count": 54,
      "outputs": [
        {
          "output_type": "stream",
          "text": [
            "Price mean: 2.01\n",
            "Price std: 0.28\n",
            "RMSE: 0.17\n",
            "R2 score train: 0.67\n",
            "R2 score test: 0.64\n"
          ],
          "name": "stdout"
        }
      ]
    },
    {
      "cell_type": "code",
      "metadata": {
        "colab": {
          "base_uri": "https://localhost:8080/",
          "height": 297
        },
        "id": "sNqathLkBlXk",
        "outputId": "f07678de-5fa8-420b-ab25-07de16ed0950"
      },
      "source": [
        "plt.scatter(y_test, y_pred, color='darkorange')\r\n",
        "plt.xlabel('Ground_truth_price')\r\n",
        "plt.ylabel('Predicted_price')\r\n",
        "plt.legend()\r\n",
        "plt.show()"
      ],
      "execution_count": 55,
      "outputs": [
        {
          "output_type": "stream",
          "text": [
            "No handles with labels found to put in legend.\n"
          ],
          "name": "stderr"
        },
        {
          "output_type": "display_data",
          "data": {
            "image/png": "[encoded data removed]",
            "text/plain": [
              "<Figure size 432x288 with 1 Axes>"
            ]
          },
          "metadata": {
            "tags": [],
            "needs_background": "light"
          }
        }
      ]
    },
    {
      "cell_type": "code",
      "metadata": {
        "colab": {
          "base_uri": "https://localhost:8080/"
        },
        "id": "h79KiSSSrb0g",
        "outputId": "20f487d1-40fc-413c-8ec3-be62370b571b"
      },
      "source": [
        "rf_reg.score(X_test, y_test)"
      ],
      "execution_count": 56,
      "outputs": [
        {
          "output_type": "execute_result",
          "data": {
            "text/plain": [
              "0.6438101589110767"
            ]
          },
          "metadata": {
            "tags": []
          },
          "execution_count": 56
        }
      ]
    },
    {
      "cell_type": "code",
      "metadata": {
        "colab": {
          "base_uri": "https://localhost:8080/"
        },
        "id": "Ki8LBYIVwuTa",
        "outputId": "c3dd93fe-e35b-4994-c937-fbd192e893ba"
      },
      "source": [
        "print('Accuracy of logistic regression  classifier on test set: {:.2f}'.format(rf_reg.score(X_test, y_test)))"
      ],
      "execution_count": 57,
      "outputs": [
        {
          "output_type": "stream",
          "text": [
            "Accuracy of logistic regression  classifier on test set: 0.64\n"
          ],
          "name": "stdout"
        }
      ]
    },
    {
      "cell_type": "markdown",
      "metadata": {
        "id": "ur5KcCa_z5x4"
      },
      "source": [
        "XGBoost Regression Model"
      ]
    },
    {
      "cell_type": "code",
      "metadata": {
        "id": "8NkQG9-lz-ib"
      },
      "source": [
        "import xgboost as xgb\r\n",
        "from sklearn.preprocessing import StandardScaler\r\n",
        "stan_sc = StandardScaler()\r\n",
        "X_train = stan_sc.fit_transform(X_train)\r\n",
        "X_test  = stan_sc.transform(X_test)"
      ],
      "execution_count": 58,
      "outputs": []
    },
    {
      "cell_type": "code",
      "metadata": {
        "id": "xvc6GWrZ0JHU",
        "colab": {
          "base_uri": "https://localhost:8080/"
        },
        "outputId": "8d74d0aa-bdba-4700-f670-c4dde983810b"
      },
      "source": [
        "from sklearn.model_selection import GridSearchCV\r\n",
        "xg_booster = xgb.XGBRegressor()\r\n",
        "param_grid = {'n_estimators': [100, 150, 200],\r\n",
        "              'learning_rate': [0.01, 0.05, 0.1], \r\n",
        "              'max_depth': [3, 4, 5, 6, 7],\r\n",
        "              'colsample_bytree': [0.6, 0.7, 1],\r\n",
        "              'gamma': [0.0, 0.1, 0.2]}\r\n",
        "\r\n",
        "grid_search = GridSearchCV(xg_booster, param_grid, cv=3, n_jobs=-1)\r\n",
        "\r\n",
        "grid_search.fit(X_train, y_train)\r\n",
        "print(grid_search.best_params_)"
      ],
      "execution_count": 59,
      "outputs": [
        {
          "output_type": "stream",
          "text": [
            "[10:03:51] WARNING: /workspace/src/objective/regression_obj.cu:152: reg:linear is now deprecated in favor of reg:squarederror.\n",
            "{'colsample_bytree': 0.7, 'gamma': 0.0, 'learning_rate': 0.1, 'max_depth': 7, 'n_estimators': 200}\n"
          ],
          "name": "stdout"
        }
      ]
    },
    {
      "cell_type": "code",
      "metadata": {
        "id": "1GnR0UMc0lDi",
        "colab": {
          "base_uri": "https://localhost:8080/"
        },
        "outputId": "43b4f94c-bf42-4f8f-c32a-c2a4f49191d1"
      },
      "source": [
        "xg_booster = xgb.XGBRegressor(colsample_bytree=0.6, gamma=0.05, learning_rate=0.1, \r\n",
        "                           max_depth=9, n_estimators=150, random_state=4)\r\n",
        "xg_booster.fit(X_train, y_train)\r\n",
        "y_pred = xg_booster.predict(X_test)"
      ],
      "execution_count": 60,
      "outputs": [
        {
          "output_type": "stream",
          "text": [
            "[10:03:58] WARNING: /workspace/src/objective/regression_obj.cu:152: reg:linear is now deprecated in favor of reg:squarederror.\n"
          ],
          "name": "stdout"
        }
      ]
    },
    {
      "cell_type": "code",
      "metadata": {
        "colab": {
          "base_uri": "https://localhost:8080/",
          "height": 343
        },
        "id": "fGzLn_hV02hP",
        "outputId": "4221086c-e53d-4f3a-8bcb-adad8ed3b583"
      },
      "source": [
        "rf_matrix = pd.DataFrame({'Actual': np.round(10 ** y_test, 0), \r\n",
        "                   'Predicted': np.round(10 ** y_pred, 0)})\r\n",
        "rf_matrix.head(10)"
      ],
      "execution_count": 61,
      "outputs": [
        {
          "output_type": "execute_result",
          "data": {
            "text/html": [
              "<div>\n",
              "<style scoped>\n",
              "    .dataframe tbody tr th:only-of-type {\n",
              "        vertical-align: middle;\n",
              "    }\n",
              "\n",
              "    .dataframe tbody tr th {\n",
              "        vertical-align: top;\n",
              "    }\n",
              "\n",
              "    .dataframe thead th {\n",
              "        text-align: right;\n",
              "    }\n",
              "</style>\n",
              "<table border=\"1\" class=\"dataframe\">\n",
              "  <thead>\n",
              "    <tr style=\"text-align: right;\">\n",
              "      <th></th>\n",
              "      <th>Actual</th>\n",
              "      <th>Predicted</th>\n",
              "    </tr>\n",
              "  </thead>\n",
              "  <tbody>\n",
              "    <tr>\n",
              "      <th>0</th>\n",
              "      <td>160.0</td>\n",
              "      <td>124.0</td>\n",
              "    </tr>\n",
              "    <tr>\n",
              "      <th>1</th>\n",
              "      <td>200.0</td>\n",
              "      <td>84.0</td>\n",
              "    </tr>\n",
              "    <tr>\n",
              "      <th>2</th>\n",
              "      <td>175.0</td>\n",
              "      <td>88.0</td>\n",
              "    </tr>\n",
              "    <tr>\n",
              "      <th>3</th>\n",
              "      <td>60.0</td>\n",
              "      <td>70.0</td>\n",
              "    </tr>\n",
              "    <tr>\n",
              "      <th>4</th>\n",
              "      <td>175.0</td>\n",
              "      <td>158.0</td>\n",
              "    </tr>\n",
              "    <tr>\n",
              "      <th>5</th>\n",
              "      <td>72.0</td>\n",
              "      <td>77.0</td>\n",
              "    </tr>\n",
              "    <tr>\n",
              "      <th>6</th>\n",
              "      <td>51.0</td>\n",
              "      <td>53.0</td>\n",
              "    </tr>\n",
              "    <tr>\n",
              "      <th>7</th>\n",
              "      <td>206.0</td>\n",
              "      <td>154.0</td>\n",
              "    </tr>\n",
              "    <tr>\n",
              "      <th>8</th>\n",
              "      <td>150.0</td>\n",
              "      <td>192.0</td>\n",
              "    </tr>\n",
              "    <tr>\n",
              "      <th>9</th>\n",
              "      <td>96.0</td>\n",
              "      <td>77.0</td>\n",
              "    </tr>\n",
              "  </tbody>\n",
              "</table>\n",
              "</div>"
            ],
            "text/plain": [
              "   Actual  Predicted\n",
              "0   160.0      124.0\n",
              "1   200.0       84.0\n",
              "2   175.0       88.0\n",
              "3    60.0       70.0\n",
              "4   175.0      158.0\n",
              "5    72.0       77.0\n",
              "6    51.0       53.0\n",
              "7   206.0      154.0\n",
              "8   150.0      192.0\n",
              "9    96.0       77.0"
            ]
          },
          "metadata": {
            "tags": []
          },
          "execution_count": 61
        }
      ]
    },
    {
      "cell_type": "code",
      "metadata": {
        "id": "xUOjAXHj0wp3",
        "colab": {
          "base_uri": "https://localhost:8080/"
        },
        "outputId": "c7ab94c9-a67a-489a-9690-6a9e6741ce30"
      },
      "source": [
        "print('Price mean:', np.round(np.mean(y), 2))  \r\n",
        "print('Price std:', np.round(np.std(y), 2))\r\n",
        "print('RMSE:', np.round(np.sqrt(metrics.mean_squared_error(y_test, xg_booster.predict(X_test))), 2))\r\n",
        "print('R2 score train:', np.round(r2_score(y_train, xg_booster.predict(X_train), multioutput='variance_weighted'), 2))\r\n",
        "print('R2 score test:', np.round(r2_score(y_test, xg_booster.predict(X_test), multioutput='variance_weighted'), 2))"
      ],
      "execution_count": 62,
      "outputs": [
        {
          "output_type": "stream",
          "text": [
            "Price mean: 2.01\n",
            "Price std: 0.28\n",
            "RMSE: 0.16\n",
            "R2 score train: 0.81\n",
            "R2 score test: 0.7\n"
          ],
          "name": "stdout"
        }
      ]
    },
    {
      "cell_type": "code",
      "metadata": {
        "colab": {
          "base_uri": "https://localhost:8080/"
        },
        "id": "oUBMnNtglrM5",
        "outputId": "078ed2a2-a3d4-408e-a562-a46d7987d8f9"
      },
      "source": [
        "print('Accuracy of logistic regression  classifier on test set: {:.2f}'.format(xg_booster.score(X_test, y_test)))"
      ],
      "execution_count": 63,
      "outputs": [
        {
          "output_type": "stream",
          "text": [
            "Accuracy of logistic regression  classifier on test set: 0.70\n"
          ],
          "name": "stdout"
        }
      ]
    },
    {
      "cell_type": "code",
      "metadata": {
        "colab": {
          "base_uri": "https://localhost:8080/",
          "height": 297
        },
        "id": "x-naKYMRy_0Z",
        "outputId": "90c62156-38d8-4957-aaae-b638496defe9"
      },
      "source": [
        "plt.scatter(y_test, y_pred, color='red')\r\n",
        "plt.xlabel('Ground_truth_price')\r\n",
        "plt.ylabel('Predicted_price')\r\n",
        "plt.legend()\r\n",
        "plt.show()"
      ],
      "execution_count": 64,
      "outputs": [
        {
          "output_type": "stream",
          "text": [
            "No handles with labels found to put in legend.\n"
          ],
          "name": "stderr"
        },
        {
          "output_type": "display_data",
          "data": {
            "image/png": "[encoded data removed]",
            "text/plain": [
              "<Figure size 432x288 with 1 Axes>"
            ]
          },
          "metadata": {
            "tags": [],
            "needs_background": "light"
          }
        }
      ]
    }
  ]
}